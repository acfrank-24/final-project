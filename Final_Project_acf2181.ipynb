{
  "nbformat": 4,
  "nbformat_minor": 0,
  "metadata": {
    "colab": {
      "provenance": [],
      "toc_visible": true,
      "authorship_tag": "ABX9TyN/64KABA+Aw0+W77aodBNu",
      "include_colab_link": true
    },
    "kernelspec": {
      "name": "python3",
      "display_name": "Python 3"
    },
    "language_info": {
      "name": "python"
    }
  },
  "cells": [
    {
      "cell_type": "markdown",
      "metadata": {
        "id": "view-in-github",
        "colab_type": "text"
      },
      "source": [
        "<a href=\"https://colab.research.google.com/github/acfrank-24/final-project/blob/main/Final_Project_acf2181.ipynb\" target=\"_parent\"><img src=\"https://colab.research.google.com/assets/colab-badge.svg\" alt=\"Open In Colab\"/></a>"
      ]
    },
    {
      "cell_type": "markdown",
      "source": [
        "# Analyzing Federal Reserve Testimony"
      ],
      "metadata": {
        "id": "m_ReK7d-nqad"
      }
    },
    {
      "cell_type": "markdown",
      "source": [
        "##Table of Contents"
      ],
      "metadata": {
        "id": "cgfeDwmJCpDh"
      }
    },
    {
      "cell_type": "markdown",
      "source": [
        ">[Analyzing Federal Reserve Testimony](#scrollTo=m_ReK7d-nqad)\n",
        "\n",
        ">>[Table of Contents](#scrollTo=cgfeDwmJCpDh)\n",
        "\n",
        ">>[Introduction](#scrollTo=uvEQkAZT8Z50)\n",
        "\n",
        ">>>[Motivation](#scrollTo=HB8FITcm3Nzu)\n",
        "\n",
        ">>>[Research Question](#scrollTo=HB8FITcm3Nzu)\n",
        "\n",
        ">>>[Hypotheses](#scrollTo=HB8FITcm3Nzu)\n",
        "\n",
        ">>[Methods](#scrollTo=DaBRRrvSCep0)\n",
        "\n",
        ">>>[Data Collection](#scrollTo=SbmizYOq7DF-)\n",
        "\n",
        ">>>>[Webscraping Text](#scrollTo=dW-iEEBJn4r8)\n",
        "\n",
        ">>>>[Data Cleaning for Question Analysis](#scrollTo=q0Wvtn_Wn_aZ)\n",
        "\n",
        ">>>[Data Analysis](#scrollTo=KSnswtx9F7_Y)\n",
        "\n",
        ">>>>[Topic Modelling](#scrollTo=ZQ-e-BuQ8UqS)\n",
        "\n",
        ">>>>[TF-IDF](#scrollTo=3qlsmWE_Ggv1)\n",
        "\n",
        ">>[Results and Discussion](#scrollTo=GXp8ctQ08b0p)\n",
        "\n",
        ">>>[Topic Modelling](#scrollTo=vYMLuAj2ghgI)\n",
        "\n",
        ">>>[TF-IDF](#scrollTo=1dnkuleVA-RJ)\n",
        "\n",
        ">>>[Other Text Analysis](#scrollTo=ro5QfNzzOAkL)\n",
        "\n",
        ">>[Conclusion](#scrollTo=HHTghWAw8hhC)\n",
        "\n",
        ">>>[Next Steps](#scrollTo=HHTghWAw8hhC)\n",
        "\n"
      ],
      "metadata": {
        "colab_type": "toc",
        "id": "i2jnUYkWCR66"
      }
    },
    {
      "cell_type": "markdown",
      "source": [
        "##Introduction"
      ],
      "metadata": {
        "id": "uvEQkAZT8Z50"
      }
    },
    {
      "cell_type": "markdown",
      "source": [
        "\n",
        "###Motivation\n",
        "\n",
        "Under the Federal Reserve Act, the Federal Reserve (Fed) Board Chair is required to present the Fed’s semi-annual Monetary Policy Report (MPR) to the Senate Committee on Banking, Housing, and Urban Affairs and to the House Committee on Financial Services ([Federal Reserve, 2023](https://www.federalreserve.gov/monetarypolicy/publications/mpr_default.htm )). The MPR covers recent economic and financial developments, monetary policy decisions, and economic projections.\n",
        "\n",
        "The Fed Chair, currently Jerome Powell, is required to testify at the hearings. Each testimony begins with an opening statement from the Committee Chair, followed by the Fed Chair's prepared remarks, then questions from the Committee members. The hearings take place on consecutive days, generally in February and July. The Fed Chair prepares one statement related to the MPR, and presents identical remarks in front of each committee. The hearings provide an important opportunity for Congress to hold the Fed accountable for its monetary policy decisions ([Federal Reserve, 2019](https://www.federalreserve.gov/faqs/about_12798.htm)).\n",
        "\n",
        "\n",
        "###Research Question\n",
        "How well does Congress hold the Fed to account?\n",
        "\n",
        "This project will use text analysis tools to analyze the congressional hearing transcripts from the semi-annual testimonies in order to answer this question. Ideally, members of Congress would ask critical questions of the Fed Chair on topic areas relevant to the Fed's mandate, including but not limited to: monetary policy, employment, inflation, and financial stability.\n",
        "\n",
        " The initial analysis will be descriptive, looking at which topics are covered in the hearings and how the topics may have changed over time. Topic modelling techniques will be used to analyze the complete transcripts, including the introductory statements. The second stage will focus on the most recently published transcript and will assess the relevance of the questions asked during the hearing using TF-IDF.\n",
        "\n",
        "###Hypotheses\n",
        "Are the questions asked during the testimony ‘relevant’ for the Fed Chair?\n",
        "\n",
        "Hypothesis: The majority of the questions will relate to monetary policy, inflation, or unemployment.\n",
        "\n",
        "Do the topics of questions asked differ across the two political parties?\n",
        "\n",
        "Hypothesis: Republicans and Democrats focus on different topics.\n"
      ],
      "metadata": {
        "id": "HB8FITcm3Nzu"
      }
    },
    {
      "cell_type": "markdown",
      "source": [
        "##Methods"
      ],
      "metadata": {
        "id": "DaBRRrvSCep0"
      }
    },
    {
      "cell_type": "markdown",
      "source": [
        "\n",
        "\n",
        "###Data Collection\n",
        "\n",
        "The hearing transcripts are available from GovInfo:\n",
        "\n",
        "*   [House Committee on Financial Services](https://www.govinfo.gov/app/collection/chrg/118/house/Committee%20on%20Financial%20Services])\n",
        "*   [Senate Committee on Banking, Housing, and Urban Affairs](https://www.govinfo.gov/committee/senate-banking?path=/browsecommittee/chamber/senate/committee/banking/collection/CHRG/congress/117)\n",
        "\n",
        "My sample consists of all of the available transcripts for testimonies where Jerome Powell was Fed Chair. There were 19 transcripts available from 2018-2023, 11 from the House Committee and 8 from the Senate Committee. The Senate Committee transcripts were not available for 2022 or 2023.\n",
        "\n",
        "To collect the data, I first compiled a list of the URLs for each testimony (cross-checking the dates using the [Fed event calendar](https://www.federalreserve.gov/newsevents/testimony.htm)). I then used the Beautiful Soup library to scrape the text from the URLs and save each transcript as a separate text file."
      ],
      "metadata": {
        "id": "SbmizYOq7DF-"
      }
    },
    {
      "cell_type": "markdown",
      "source": [
        "####Webscraping Text\n",
        "\n",
        " I used the the Beautiful Soup library to webscrape the text from the URLs then saved them as text files. The following code is adapted from [Krisel 2023](https://github.com/rskrisel/web_scraping_workshop)."
      ],
      "metadata": {
        "id": "dW-iEEBJn4r8"
      }
    },
    {
      "cell_type": "code",
      "execution_count": 1,
      "metadata": {
        "colab": {
          "base_uri": "https://localhost:8080/"
        },
        "id": "lfAArggp3M77",
        "outputId": "efac3525-b096-4551-e213-5afe8da15326"
      },
      "outputs": [
        {
          "output_type": "stream",
          "name": "stdout",
          "text": [
            "Drive already mounted at /content/gdrive; to attempt to forcibly remount, call drive.mount(\"/content/gdrive\", force_remount=True).\n"
          ]
        }
      ],
      "source": [
        "##Mounting Google Drive\n",
        "from google.colab import drive\n",
        "drive.mount('/content/gdrive')"
      ]
    },
    {
      "cell_type": "code",
      "source": [
        "##Importing packages\n",
        "import pandas as pd\n",
        "import requests\n",
        "from bs4 import BeautifulSoup"
      ],
      "metadata": {
        "id": "Ts8qTlBs8UL5"
      },
      "execution_count": 2,
      "outputs": []
    },
    {
      "cell_type": "code",
      "source": [
        "##Load the csv file with URL list\n",
        "data_df= pd.read_csv(\"/content/gdrive/MyDrive/Final_Project/URL_list.csv\", delimiter=',', encoding='utf-8')"
      ],
      "metadata": {
        "id": "nwmvqfPE9KSj"
      },
      "execution_count": 3,
      "outputs": []
    },
    {
      "cell_type": "code",
      "source": [
        "##Converting data type to datetime, validating\n",
        "data_df['Date'] = pd.to_datetime(data_df['Date'], format='%d/%m/%y')\n",
        "data_df.dtypes"
      ],
      "metadata": {
        "id": "FMI_0ZOI-cFg",
        "colab": {
          "base_uri": "https://localhost:8080/"
        },
        "outputId": "3311d597-79de-478f-b187-e9738b629e4d"
      },
      "execution_count": 4,
      "outputs": [
        {
          "output_type": "execute_result",
          "data": {
            "text/plain": [
              "URL                   object\n",
              "Date          datetime64[ns]\n",
              "Chair                 object\n",
              "Committee             object\n",
              "Identifier            object\n",
              "dtype: object"
            ]
          },
          "metadata": {},
          "execution_count": 4
        }
      ]
    },
    {
      "cell_type": "code",
      "source": [
        "##Check result\n",
        "#data_df"
      ],
      "metadata": {
        "id": "EHqBa7Y8-mIi"
      },
      "execution_count": 5,
      "outputs": []
    },
    {
      "cell_type": "code",
      "source": [
        "##From rskrisel https://github.com/rskrisel/web_scraping_workshop\n",
        "##Define the web scraping function\n",
        "\n",
        "def scrape_article(url):\n",
        "    response = requests.get(url)\n",
        "    response.encoding = 'utf-8'\n",
        "    html_string = response.text\n",
        "    return html_string"
      ],
      "metadata": {
        "id": "y8Mljj9i_H53"
      },
      "execution_count": 6,
      "outputs": []
    },
    {
      "cell_type": "code",
      "source": [
        "##Scrape the articles using the function above, add it to dataframe\n",
        "data_df['text'] = data_df['URL'].apply(scrape_article)"
      ],
      "metadata": {
        "id": "gZEjb2ob_MMn"
      },
      "execution_count": 7,
      "outputs": []
    },
    {
      "cell_type": "code",
      "source": [
        "##Check result\n",
        "#data_df"
      ],
      "metadata": {
        "id": "BdmjY2dV_h0m"
      },
      "execution_count": 8,
      "outputs": []
    },
    {
      "cell_type": "code",
      "source": [
        "##Use Beautiful Soup to extract the text\n",
        "for text in data_df['text']:\n",
        "    soup = BeautifulSoup(text)\n",
        "    article = soup.get_text()\n",
        "    #print(article)"
      ],
      "metadata": {
        "id": "VZVcOTW-_rGw"
      },
      "execution_count": 9,
      "outputs": []
    },
    {
      "cell_type": "code",
      "source": [
        "##Extract each html string and save it as its own text file\n",
        "##Adding row identifier to file name, looping through dataframe\n",
        "##Using Krisel and GPT: https://chat.openai.com/share/7751ac34-eee1-4219-8803-f79dae7ee361\n",
        "\n",
        "for index, row in data_df.iterrows():\n",
        "    text = row['text']\n",
        "    soup = BeautifulSoup(text)\n",
        "    article = soup.get_text()\n",
        "\n",
        "    label = row['Identifier']\n",
        "    with open(f\"/content/gdrive/MyDrive/Final_Project/files/{label}_transcript.txt\", \"w\") as file:\n",
        "        file.write(str(article))"
      ],
      "metadata": {
        "id": "xQqUlxGUqDbQ"
      },
      "execution_count": 10,
      "outputs": []
    },
    {
      "cell_type": "markdown",
      "source": [
        "####Data Cleaning for Question Analysis\n",
        "\n",
        "For the March 2023 CFS hearing, I used the nltk library and regular expressions to separate the questions from the rest of the transcript. The string was converted into a dataframe, with one row per question. I then identified the committee member asking the question, and assigned a flag identifying their political party.\n",
        "\n",
        "Initially, to split the string into separate questions, I added line breaks before each speaker's name, but this method was not precise enough. Using regular expressions provided me with more flexibility to identifying the questions in the text, but it still did not match all of the possible cases. Future work would refine the regular expressions to capture all of the questions.\n",
        "\n",
        "The following code references [Krisel (2013)](https://github.com/rskrisel/intro_to_nltk/blob/main/Intro_NLTK_workshop.ipynb) and adapts code generated by ChatGPT."
      ],
      "metadata": {
        "id": "q0Wvtn_Wn_aZ"
      }
    },
    {
      "cell_type": "code",
      "source": [
        "##Install and import packages\n",
        "import nltk\n",
        "nltk.download('stopwords')\n",
        "nltk.download('punkt')\n",
        "from nltk.corpus import stopwords\n",
        "stops = stopwords.words('english')\n",
        "\n",
        "from nltk import pos_tag\n",
        "from nltk.corpus import wordnet\n",
        "from nltk.stem.wordnet import WordNetLemmatizer\n",
        "from nltk.text import Text\n",
        "\n",
        "import re\n",
        "import pandas as pd"
      ],
      "metadata": {
        "colab": {
          "base_uri": "https://localhost:8080/"
        },
        "id": "LJ5JKuoLn-9w",
        "outputId": "c10c50b2-c063-4212-f249-03bcdb541158"
      },
      "execution_count": 11,
      "outputs": [
        {
          "output_type": "stream",
          "name": "stderr",
          "text": [
            "[nltk_data] Downloading package stopwords to /root/nltk_data...\n",
            "[nltk_data]   Package stopwords is already up-to-date!\n",
            "[nltk_data] Downloading package punkt to /root/nltk_data...\n",
            "[nltk_data]   Package punkt is already up-to-date!\n"
          ]
        }
      ]
    },
    {
      "cell_type": "code",
      "source": [
        "##Setting the file path to the text file\n",
        "filepath = \"/content/gdrive/MyDrive/Final_Project/Testing/2023_3_CFS_transcript.txt\""
      ],
      "metadata": {
        "id": "ajN8SBk3lRJO"
      },
      "execution_count": 12,
      "outputs": []
    },
    {
      "cell_type": "code",
      "source": [
        "##Read in the text file\n",
        "text = open(filepath, encoding='utf-8').read()\n",
        "type(text)"
      ],
      "metadata": {
        "id": "uI-GrLwrniz0",
        "colab": {
          "base_uri": "https://localhost:8080/"
        },
        "outputId": "a9b98a3d-0383-4607-b70e-ad2e481ff68b"
      },
      "execution_count": 13,
      "outputs": [
        {
          "output_type": "execute_result",
          "data": {
            "text/plain": [
              "str"
            ]
          },
          "metadata": {},
          "execution_count": 13
        }
      ]
    },
    {
      "cell_type": "code",
      "source": [
        "##First remove all the excess line spacing in the document, so I can add my own later\n",
        "text_unspaced = text.replace('\\n',\" \")"
      ],
      "metadata": {
        "id": "nHPHBygSzE4z"
      },
      "execution_count": 14,
      "outputs": []
    },
    {
      "cell_type": "code",
      "source": [
        "##Check result\n",
        "#text_unspaced"
      ],
      "metadata": {
        "id": "ggsmM_sqzo1_"
      },
      "execution_count": 15,
      "outputs": []
    },
    {
      "cell_type": "code",
      "source": [
        "##Adding line breaks between questions and answers\n",
        "##Adapted from GPT prompt: https://chat.openai.com/share/203c1db4-9b6c-4a8a-b329-cf2feddbf841\n",
        "\n",
        "def add_line_breaks(text):\n",
        "    # Define a regular expression to match \"Mr. x.\", \"Ms. x.\", \"Chairman McHenry.\", and \"Thank you, Mr. Chairman.\"\n",
        "    pattern = re.compile(r'Mr\\.|Ms\\. [A-Za-z]+\\.|Chairman McHenry\\.(?<!\\S,)|Thank you, Mr\\. Chairman\\.|Mr\\. Chairman, I yield back\\.|Mr\\. Chairman(?!, [A-Za-z]+\\.)')\n",
        "\n",
        "    # Use the pattern to find all matches in the text\n",
        "    matches = pattern.finditer(text)\n",
        "\n",
        "    # Add line breaks before each match\n",
        "    modified_text = text\n",
        "    offset = 0\n",
        "    for match in matches:\n",
        "        modified_text = modified_text[:match.start() + offset] + '\\n' + modified_text[match.start() + offset:]\n",
        "        offset += 1\n",
        "\n",
        "    return modified_text\n"
      ],
      "metadata": {
        "id": "vCZbIYlwvHHz"
      },
      "execution_count": 16,
      "outputs": []
    },
    {
      "cell_type": "code",
      "source": [
        "#Applying the function\n",
        "text_spaced = add_line_breaks(text_unspaced)"
      ],
      "metadata": {
        "id": "-fGknrytwDrx"
      },
      "execution_count": 17,
      "outputs": []
    },
    {
      "cell_type": "code",
      "source": [
        "#Check result\n",
        "#text_spaced"
      ],
      "metadata": {
        "id": "Mv9X9W31--a7"
      },
      "execution_count": 18,
      "outputs": []
    },
    {
      "cell_type": "code",
      "source": [
        "##Separating the Q&A part of the string\n",
        "##Adapting code from ChatGPT: https://chat.openai.com/share/4b697dc1-f3be-4459-8a96-875e413d25bb\n",
        "##And tutorial: https://www.w3schools.com/python/ref_string_split.asp\n",
        "\n",
        "# Split the text at the specified delimiter\n",
        "split_text = text_spaced.split(\"\\n\")\n",
        "\n",
        "#print(split_text)"
      ],
      "metadata": {
        "id": "J1c3gbIZv9OG"
      },
      "execution_count": 19,
      "outputs": []
    },
    {
      "cell_type": "code",
      "source": [
        "##Convert list into a dataframe\n",
        "##https://datatofish.com/list-to-dataframe/\n",
        "\n",
        "split_text_df = pd.DataFrame(split_text, columns=['Text'])"
      ],
      "metadata": {
        "id": "l6QVHTXKvSIL"
      },
      "execution_count": 20,
      "outputs": []
    },
    {
      "cell_type": "code",
      "source": [
        "##Check dataframe\n",
        "#split_text_df"
      ],
      "metadata": {
        "id": "ywljVzERvvfo"
      },
      "execution_count": 21,
      "outputs": []
    },
    {
      "cell_type": "code",
      "source": [
        "##Find the start of the Q&A\n",
        "##Adapting https://www.geeksforgeeks.org/python-pandas-series-str-find/\n",
        "\n",
        "#Substring to be searched\n",
        "sub ='[The prepared statement of Chairman Powell can be found on'\n",
        "\n",
        "#Start var\n",
        "start = 0\n",
        "\n",
        "#Creating and passing series to new column\n",
        "split_text_df[\"Indexes\"]= split_text_df[\"Text\"].str.find(sub, start)\n",
        "\n",
        "#Display df to find the row index with the substring\n",
        "split_text_df.sort_values(by='Indexes', ascending=False)"
      ],
      "metadata": {
        "id": "FBzJjq8FwjZq",
        "colab": {
          "base_uri": "https://localhost:8080/",
          "height": 419
        },
        "outputId": "311cc9a8-fc26-4435-fb5f-48dce17afbe3"
      },
      "execution_count": 22,
      "outputs": [
        {
          "output_type": "execute_result",
          "data": {
            "text/plain": [
              "                                                  Text  Indexes\n",
              "13   Mr. Powell. Chairman McHenry, Ranking Member W...     6584\n",
              "0      - THE FEDERAL RESERVE'S SEMI-ANNUAL MONETARY...       -1\n",
              "333                                       Mr. Casten.        -1\n",
              "346                     Mr. Casten. I yield back.            -1\n",
              "345  Chairman McHenry. The gentleman's time has exp...       -1\n",
              "..                                                 ...      ...\n",
              "165  Mr. Powell. This is something we only think ab...       -1\n",
              "164  Mr. Foster. Yes, and if you allow yourself to ...       -1\n",
              "163  Mr. Powell. We have had our eyes on the whole ...       -1\n",
              "162  Mr. Foster. Okay. I hope you don't overlearn s...       -1\n",
              "506  Mr. Powell. Thank you.     [Whereupon, at 1:01...       -1\n",
              "\n",
              "[507 rows x 2 columns]"
            ],
            "text/html": [
              "\n",
              "  <div id=\"df-afb83f8d-25b7-4f8a-95f6-d96998b216fb\" class=\"colab-df-container\">\n",
              "    <div>\n",
              "<style scoped>\n",
              "    .dataframe tbody tr th:only-of-type {\n",
              "        vertical-align: middle;\n",
              "    }\n",
              "\n",
              "    .dataframe tbody tr th {\n",
              "        vertical-align: top;\n",
              "    }\n",
              "\n",
              "    .dataframe thead th {\n",
              "        text-align: right;\n",
              "    }\n",
              "</style>\n",
              "<table border=\"1\" class=\"dataframe\">\n",
              "  <thead>\n",
              "    <tr style=\"text-align: right;\">\n",
              "      <th></th>\n",
              "      <th>Text</th>\n",
              "      <th>Indexes</th>\n",
              "    </tr>\n",
              "  </thead>\n",
              "  <tbody>\n",
              "    <tr>\n",
              "      <th>13</th>\n",
              "      <td>Mr. Powell. Chairman McHenry, Ranking Member W...</td>\n",
              "      <td>6584</td>\n",
              "    </tr>\n",
              "    <tr>\n",
              "      <th>0</th>\n",
              "      <td>- THE FEDERAL RESERVE'S SEMI-ANNUAL MONETARY...</td>\n",
              "      <td>-1</td>\n",
              "    </tr>\n",
              "    <tr>\n",
              "      <th>333</th>\n",
              "      <td>Mr. Casten.</td>\n",
              "      <td>-1</td>\n",
              "    </tr>\n",
              "    <tr>\n",
              "      <th>346</th>\n",
              "      <td>Mr. Casten. I yield back.</td>\n",
              "      <td>-1</td>\n",
              "    </tr>\n",
              "    <tr>\n",
              "      <th>345</th>\n",
              "      <td>Chairman McHenry. The gentleman's time has exp...</td>\n",
              "      <td>-1</td>\n",
              "    </tr>\n",
              "    <tr>\n",
              "      <th>...</th>\n",
              "      <td>...</td>\n",
              "      <td>...</td>\n",
              "    </tr>\n",
              "    <tr>\n",
              "      <th>165</th>\n",
              "      <td>Mr. Powell. This is something we only think ab...</td>\n",
              "      <td>-1</td>\n",
              "    </tr>\n",
              "    <tr>\n",
              "      <th>164</th>\n",
              "      <td>Mr. Foster. Yes, and if you allow yourself to ...</td>\n",
              "      <td>-1</td>\n",
              "    </tr>\n",
              "    <tr>\n",
              "      <th>163</th>\n",
              "      <td>Mr. Powell. We have had our eyes on the whole ...</td>\n",
              "      <td>-1</td>\n",
              "    </tr>\n",
              "    <tr>\n",
              "      <th>162</th>\n",
              "      <td>Mr. Foster. Okay. I hope you don't overlearn s...</td>\n",
              "      <td>-1</td>\n",
              "    </tr>\n",
              "    <tr>\n",
              "      <th>506</th>\n",
              "      <td>Mr. Powell. Thank you.     [Whereupon, at 1:01...</td>\n",
              "      <td>-1</td>\n",
              "    </tr>\n",
              "  </tbody>\n",
              "</table>\n",
              "<p>507 rows × 2 columns</p>\n",
              "</div>\n",
              "    <div class=\"colab-df-buttons\">\n",
              "\n",
              "  <div class=\"colab-df-container\">\n",
              "    <button class=\"colab-df-convert\" onclick=\"convertToInteractive('df-afb83f8d-25b7-4f8a-95f6-d96998b216fb')\"\n",
              "            title=\"Convert this dataframe to an interactive table.\"\n",
              "            style=\"display:none;\">\n",
              "\n",
              "  <svg xmlns=\"http://www.w3.org/2000/svg\" height=\"24px\" viewBox=\"0 -960 960 960\">\n",
              "    <path d=\"M120-120v-720h720v720H120Zm60-500h600v-160H180v160Zm220 220h160v-160H400v160Zm0 220h160v-160H400v160ZM180-400h160v-160H180v160Zm440 0h160v-160H620v160ZM180-180h160v-160H180v160Zm440 0h160v-160H620v160Z\"/>\n",
              "  </svg>\n",
              "    </button>\n",
              "\n",
              "  <style>\n",
              "    .colab-df-container {\n",
              "      display:flex;\n",
              "      gap: 12px;\n",
              "    }\n",
              "\n",
              "    .colab-df-convert {\n",
              "      background-color: #E8F0FE;\n",
              "      border: none;\n",
              "      border-radius: 50%;\n",
              "      cursor: pointer;\n",
              "      display: none;\n",
              "      fill: #1967D2;\n",
              "      height: 32px;\n",
              "      padding: 0 0 0 0;\n",
              "      width: 32px;\n",
              "    }\n",
              "\n",
              "    .colab-df-convert:hover {\n",
              "      background-color: #E2EBFA;\n",
              "      box-shadow: 0px 1px 2px rgba(60, 64, 67, 0.3), 0px 1px 3px 1px rgba(60, 64, 67, 0.15);\n",
              "      fill: #174EA6;\n",
              "    }\n",
              "\n",
              "    .colab-df-buttons div {\n",
              "      margin-bottom: 4px;\n",
              "    }\n",
              "\n",
              "    [theme=dark] .colab-df-convert {\n",
              "      background-color: #3B4455;\n",
              "      fill: #D2E3FC;\n",
              "    }\n",
              "\n",
              "    [theme=dark] .colab-df-convert:hover {\n",
              "      background-color: #434B5C;\n",
              "      box-shadow: 0px 1px 3px 1px rgba(0, 0, 0, 0.15);\n",
              "      filter: drop-shadow(0px 1px 2px rgba(0, 0, 0, 0.3));\n",
              "      fill: #FFFFFF;\n",
              "    }\n",
              "  </style>\n",
              "\n",
              "    <script>\n",
              "      const buttonEl =\n",
              "        document.querySelector('#df-afb83f8d-25b7-4f8a-95f6-d96998b216fb button.colab-df-convert');\n",
              "      buttonEl.style.display =\n",
              "        google.colab.kernel.accessAllowed ? 'block' : 'none';\n",
              "\n",
              "      async function convertToInteractive(key) {\n",
              "        const element = document.querySelector('#df-afb83f8d-25b7-4f8a-95f6-d96998b216fb');\n",
              "        const dataTable =\n",
              "          await google.colab.kernel.invokeFunction('convertToInteractive',\n",
              "                                                    [key], {});\n",
              "        if (!dataTable) return;\n",
              "\n",
              "        const docLinkHtml = 'Like what you see? Visit the ' +\n",
              "          '<a target=\"_blank\" href=https://colab.research.google.com/notebooks/data_table.ipynb>data table notebook</a>'\n",
              "          + ' to learn more about interactive tables.';\n",
              "        element.innerHTML = '';\n",
              "        dataTable['output_type'] = 'display_data';\n",
              "        await google.colab.output.renderOutput(dataTable, element);\n",
              "        const docLink = document.createElement('div');\n",
              "        docLink.innerHTML = docLinkHtml;\n",
              "        element.appendChild(docLink);\n",
              "      }\n",
              "    </script>\n",
              "  </div>\n",
              "\n",
              "\n",
              "<div id=\"df-b376dd51-2393-4c29-90a3-315a59d19477\">\n",
              "  <button class=\"colab-df-quickchart\" onclick=\"quickchart('df-b376dd51-2393-4c29-90a3-315a59d19477')\"\n",
              "            title=\"Suggest charts\"\n",
              "            style=\"display:none;\">\n",
              "\n",
              "<svg xmlns=\"http://www.w3.org/2000/svg\" height=\"24px\"viewBox=\"0 0 24 24\"\n",
              "     width=\"24px\">\n",
              "    <g>\n",
              "        <path d=\"M19 3H5c-1.1 0-2 .9-2 2v14c0 1.1.9 2 2 2h14c1.1 0 2-.9 2-2V5c0-1.1-.9-2-2-2zM9 17H7v-7h2v7zm4 0h-2V7h2v10zm4 0h-2v-4h2v4z\"/>\n",
              "    </g>\n",
              "</svg>\n",
              "  </button>\n",
              "\n",
              "<style>\n",
              "  .colab-df-quickchart {\n",
              "      --bg-color: #E8F0FE;\n",
              "      --fill-color: #1967D2;\n",
              "      --hover-bg-color: #E2EBFA;\n",
              "      --hover-fill-color: #174EA6;\n",
              "      --disabled-fill-color: #AAA;\n",
              "      --disabled-bg-color: #DDD;\n",
              "  }\n",
              "\n",
              "  [theme=dark] .colab-df-quickchart {\n",
              "      --bg-color: #3B4455;\n",
              "      --fill-color: #D2E3FC;\n",
              "      --hover-bg-color: #434B5C;\n",
              "      --hover-fill-color: #FFFFFF;\n",
              "      --disabled-bg-color: #3B4455;\n",
              "      --disabled-fill-color: #666;\n",
              "  }\n",
              "\n",
              "  .colab-df-quickchart {\n",
              "    background-color: var(--bg-color);\n",
              "    border: none;\n",
              "    border-radius: 50%;\n",
              "    cursor: pointer;\n",
              "    display: none;\n",
              "    fill: var(--fill-color);\n",
              "    height: 32px;\n",
              "    padding: 0;\n",
              "    width: 32px;\n",
              "  }\n",
              "\n",
              "  .colab-df-quickchart:hover {\n",
              "    background-color: var(--hover-bg-color);\n",
              "    box-shadow: 0 1px 2px rgba(60, 64, 67, 0.3), 0 1px 3px 1px rgba(60, 64, 67, 0.15);\n",
              "    fill: var(--button-hover-fill-color);\n",
              "  }\n",
              "\n",
              "  .colab-df-quickchart-complete:disabled,\n",
              "  .colab-df-quickchart-complete:disabled:hover {\n",
              "    background-color: var(--disabled-bg-color);\n",
              "    fill: var(--disabled-fill-color);\n",
              "    box-shadow: none;\n",
              "  }\n",
              "\n",
              "  .colab-df-spinner {\n",
              "    border: 2px solid var(--fill-color);\n",
              "    border-color: transparent;\n",
              "    border-bottom-color: var(--fill-color);\n",
              "    animation:\n",
              "      spin 1s steps(1) infinite;\n",
              "  }\n",
              "\n",
              "  @keyframes spin {\n",
              "    0% {\n",
              "      border-color: transparent;\n",
              "      border-bottom-color: var(--fill-color);\n",
              "      border-left-color: var(--fill-color);\n",
              "    }\n",
              "    20% {\n",
              "      border-color: transparent;\n",
              "      border-left-color: var(--fill-color);\n",
              "      border-top-color: var(--fill-color);\n",
              "    }\n",
              "    30% {\n",
              "      border-color: transparent;\n",
              "      border-left-color: var(--fill-color);\n",
              "      border-top-color: var(--fill-color);\n",
              "      border-right-color: var(--fill-color);\n",
              "    }\n",
              "    40% {\n",
              "      border-color: transparent;\n",
              "      border-right-color: var(--fill-color);\n",
              "      border-top-color: var(--fill-color);\n",
              "    }\n",
              "    60% {\n",
              "      border-color: transparent;\n",
              "      border-right-color: var(--fill-color);\n",
              "    }\n",
              "    80% {\n",
              "      border-color: transparent;\n",
              "      border-right-color: var(--fill-color);\n",
              "      border-bottom-color: var(--fill-color);\n",
              "    }\n",
              "    90% {\n",
              "      border-color: transparent;\n",
              "      border-bottom-color: var(--fill-color);\n",
              "    }\n",
              "  }\n",
              "</style>\n",
              "\n",
              "  <script>\n",
              "    async function quickchart(key) {\n",
              "      const quickchartButtonEl =\n",
              "        document.querySelector('#' + key + ' button');\n",
              "      quickchartButtonEl.disabled = true;  // To prevent multiple clicks.\n",
              "      quickchartButtonEl.classList.add('colab-df-spinner');\n",
              "      try {\n",
              "        const charts = await google.colab.kernel.invokeFunction(\n",
              "            'suggestCharts', [key], {});\n",
              "      } catch (error) {\n",
              "        console.error('Error during call to suggestCharts:', error);\n",
              "      }\n",
              "      quickchartButtonEl.classList.remove('colab-df-spinner');\n",
              "      quickchartButtonEl.classList.add('colab-df-quickchart-complete');\n",
              "    }\n",
              "    (() => {\n",
              "      let quickchartButtonEl =\n",
              "        document.querySelector('#df-b376dd51-2393-4c29-90a3-315a59d19477 button');\n",
              "      quickchartButtonEl.style.display =\n",
              "        google.colab.kernel.accessAllowed ? 'block' : 'none';\n",
              "    })();\n",
              "  </script>\n",
              "</div>\n",
              "    </div>\n",
              "  </div>\n"
            ]
          },
          "metadata": {},
          "execution_count": 22
        }
      ]
    },
    {
      "cell_type": "code",
      "source": [
        "##Save the row index for the row to split on\n",
        "##Using https://www.geeksforgeeks.org/return-the-index-label-if-some-condition-is-satisfied-over-a-column-in-pandas-dataframe/\n",
        "\n",
        "split_row_index = split_text_df[split_text_df['Indexes']>0].index.tolist()[0]+1\n",
        "\n",
        "split_row_index"
      ],
      "metadata": {
        "colab": {
          "base_uri": "https://localhost:8080/"
        },
        "id": "yWGyEPB0xVTZ",
        "outputId": "e5fa2e7e-f6d7-49cf-de15-9c811e36200d"
      },
      "execution_count": 23,
      "outputs": [
        {
          "output_type": "execute_result",
          "data": {
            "text/plain": [
              "14"
            ]
          },
          "metadata": {},
          "execution_count": 23
        }
      ]
    },
    {
      "cell_type": "code",
      "source": [
        "##Creating a subset with only the Q&A Text\n",
        "QA_text_df=split_text_df[split_row_index:]"
      ],
      "metadata": {
        "id": "P8BRlX7ixo9w"
      },
      "execution_count": 24,
      "outputs": []
    },
    {
      "cell_type": "code",
      "source": [
        "##Checking\n",
        "#QA_text_df"
      ],
      "metadata": {
        "id": "aAnprmuVx1a_"
      },
      "execution_count": 25,
      "outputs": []
    },
    {
      "cell_type": "code",
      "source": [
        "##Want to look at how long the shorter strings are\n",
        "QA_text_df[\"Text\"].str.len().sort_values(ascending=True).head(25)\n",
        "##A lot of these rows are not relevant, e.g. 213 \"Mr. Himes. Thank you,\""
      ],
      "metadata": {
        "colab": {
          "base_uri": "https://localhost:8080/"
        },
        "id": "ZyCFHeyaP1zx",
        "outputId": "8e7bded5-8eb1-4378-c0ca-5c33496d19bf"
      },
      "execution_count": 92,
      "outputs": [
        {
          "output_type": "execute_result",
          "data": {
            "text/plain": [
              "111    11\n",
              "494    11\n",
              "333    12\n",
              "312    14\n",
              "40     16\n",
              "27     16\n",
              "284    16\n",
              "289    16\n",
              "117    18\n",
              "260    18\n",
              "104    20\n",
              "54     21\n",
              "196    21\n",
              "60     21\n",
              "67     21\n",
              "72     21\n",
              "52     21\n",
              "252    21\n",
              "213    22\n",
              "120    22\n",
              "468    22\n",
              "327    23\n",
              "301    23\n",
              "226    23\n",
              "274    24\n",
              "Name: Text, dtype: int64"
            ]
          },
          "metadata": {},
          "execution_count": 92
        }
      ]
    },
    {
      "cell_type": "code",
      "source": [
        "##Make a new dataframe to filter out the questions\n",
        "Qonly_text_df = QA_text_df"
      ],
      "metadata": {
        "id": "n9iU3-QVUJEd"
      },
      "execution_count": 27,
      "outputs": []
    },
    {
      "cell_type": "code",
      "source": [
        "##Now want to delete Powell's responses to focus on the questions only\n",
        "##Will also delete rows that contain the introductions\n",
        "##Source: https://www.geeksforgeeks.org/how-to-drop-rows-that-contain-a-specific-string-in-pandas/\n",
        "##Source: https://chat.openai.com/share/91c2c557-840f-4730-bf15-80fbae1a804b\n",
        "\n",
        "##delete Powell's answers\n",
        "Qonly_text_df = Qonly_text_df[QA_text_df[\"Text\"].str.contains(\"Mr. Powell.\") == False]\n",
        "\n",
        "##Also delete Chairman McHenry's introductions\n",
        "Qonly_text_df = Qonly_text_df[QA_text_df[\"Text\"].str.contains(\"Chairman McHenry. \") == False]\n",
        "\n",
        "##delete short answers/intros\n",
        "min_string_length = 40\n",
        "# Filter out rows with string length less than min_string_length\n",
        "Qonly_text_df = Qonly_text_df[Qonly_text_df[\"Text\"].apply(len) >= min_string_length]\n"
      ],
      "metadata": {
        "colab": {
          "base_uri": "https://localhost:8080/"
        },
        "id": "ss16Hk1YE_6H",
        "outputId": "d23fb6e6-04f0-4687-965c-a3fa04e664ce"
      },
      "execution_count": 28,
      "outputs": [
        {
          "output_type": "stream",
          "name": "stderr",
          "text": [
            "<ipython-input-28-5adf2cab0d33>:10: UserWarning: Boolean Series key will be reindexed to match DataFrame index.\n",
            "  Qonly_text_df = Qonly_text_df[QA_text_df[\"Text\"].str.contains(\"Chairman McHenry. \") == False]\n"
          ]
        }
      ]
    },
    {
      "cell_type": "code",
      "source": [
        "##Check result\n",
        "#Qonly_text_df"
      ],
      "metadata": {
        "id": "a9EuFgmHP2kj"
      },
      "execution_count": 29,
      "outputs": []
    },
    {
      "cell_type": "markdown",
      "source": [
        "The split above into questions and answers was slightly imperfect. Multiple iterations of regular expressions were not able to perfectly separate all of the questions and answers. In some cases, the questions are no longer attributable to a committee member, so they cannot be assigned to a political party. These are often the initial question asked by the speaker, so I did not want to remove them from the data set because they tended to be the most substantial questions. Deleting the short questions removed most of the introductory statements from Chairman McHenry, but did not remove all of them. Further work on this topic would refine the regular expressions to better capture all of the questions, without removing the names of the speakers.\n",
        "\n",
        "Next I compiled a list of the committee members and their political party (this was provided at the start of the transcript). I then checked the questions against the list of names and add a flag for whether the committee member was Republican or Democrat. Questions that do not contain a name received an 'Unknown' flag. I then split the questions into two datasets for Republicans and Democrats."
      ],
      "metadata": {
        "id": "IcpBN_N3vQl-"
      }
    },
    {
      "cell_type": "code",
      "source": [
        "##2023 Feb\n",
        "Republican_List=[\"McHenry\",\"Lucas\",\"Sessions\",\"Posey\",\"Luetkemeyer\",\"Huizenga\",\"Wagner\",\"Barr\",\"Williams\",\"Hill\",\"Emmer\",\"Loudermilk\",\"Mooney\",\"Davidson\",\n",
        "                 \"Rose\",\"Steil\",\"Timmons\",\"Norman\",\"Meuser\",\"Fitzgerald\",\"Garbarino\",\"Kim\",\"Donalds\",\"Flood\",\"Lawler\",\"Nunn\",\"Cruz\",\"Houchin\",\"Ogles\"]\n",
        "\n",
        "Democrat_List=['Waters','Velazquez','Sherman','Meeks','Scott','Lynch','Green','Cleaver','Himes','Foster','Beatty','Vargas','Gottheimer','Gonzalez','Casten',\n",
        "               'Pressley','Horsford','Tlaib','Torres','Garcia','Williams','Nickel','Pettersen']\n"
      ],
      "metadata": {
        "id": "pdTTee0jUqPK"
      },
      "execution_count": 30,
      "outputs": []
    },
    {
      "cell_type": "code",
      "source": [
        "##Adapting code from ChatGPT: https://chat.openai.com/share/ebdc65cb-da11-427e-92f2-f23d385202d3\n",
        "\n",
        "# Function to check if any part of the name is a substring of the given text\n",
        "def assign_party_flag(text):\n",
        "    text = text.lower()  # Convert to lowercase for case-insensitive matching\n",
        "    for name in Democrat_List:\n",
        "        if name.lower() in text:\n",
        "            return 'Democrat'\n",
        "    for name in Republican_List:\n",
        "        if name.lower() in text:\n",
        "            return 'Republican'\n",
        "    return 'Unknown'\n",
        "\n",
        "# Add a new column 'Party' to the DataFrame based on the names\n",
        "Qonly_text_df['Party'] = Qonly_text_df['Text'].apply(lambda x: assign_party_flag(x))\n",
        "\n",
        "# Print the updated DataFrame\n",
        "#Qonly_text_df"
      ],
      "metadata": {
        "id": "mMkxhmxBGd8X"
      },
      "execution_count": 31,
      "outputs": []
    },
    {
      "cell_type": "code",
      "source": [
        "##Checking which questions were not assigned to a political party\n",
        "#Qonly_text_df[Qonly_text_df['Party'].str.contains(\"Unknown\") == True]"
      ],
      "metadata": {
        "id": "bcCAAoNWXpBX"
      },
      "execution_count": 94,
      "outputs": []
    },
    {
      "cell_type": "code",
      "source": [
        "##Filtering: Republican and Democrat\n",
        "Rep_Qdf= Qonly_text_df[Qonly_text_df['Party'].str.contains(\"Republican\") == True]\n",
        "Dem_Qdf= Qonly_text_df[Qonly_text_df['Party'].str.contains(\"Democrat\") == True]"
      ],
      "metadata": {
        "id": "vgo3xch7M8sE"
      },
      "execution_count": 33,
      "outputs": []
    },
    {
      "cell_type": "code",
      "source": [
        "##Checking\n",
        "#Rep_Qdf\n",
        "#Dem_Qdf"
      ],
      "metadata": {
        "id": "czT_Y_u1YVRJ"
      },
      "execution_count": 34,
      "outputs": []
    },
    {
      "cell_type": "code",
      "source": [
        "##Dropping the index and party columns from the data frames:\n",
        "Qonly_text_df= Qonly_text_df[[\"Text\"]]\n",
        "Rep_Qdf= Rep_Qdf[[\"Text\"]]\n",
        "Dem_Qdf= Dem_Qdf[[\"Text\"]]\n",
        "\n",
        "#Checking results\n",
        "#Qonly_text_df\n",
        "#Rep_Qdf\n",
        "#Dem_Qdf"
      ],
      "metadata": {
        "id": "AMjaFPNomIrT"
      },
      "execution_count": 35,
      "outputs": []
    },
    {
      "cell_type": "markdown",
      "source": [
        "I now have the three datasets for the question-related text analysis: the complete set of questions, and the party-assigned questions:\n",
        "\n",
        "```\n",
        "Qonly_text_df   ##all questions\n",
        "Rep_Qdf         ##only republican\n",
        "Dem_Qdf         ##only democrat\n",
        "```\n",
        "The next step is to process the datasets for text analysis, by tokenizing, converting to lower case, and removing stop words. The following code is adapted from [Krisel (2013)](https://github.com/rskrisel/intro_to_nltk/blob/main/Intro_NLTK_workshop.ipynb).\n"
      ],
      "metadata": {
        "id": "BS05M6qNvRXo"
      }
    },
    {
      "cell_type": "code",
      "source": [
        "##Converting them all to strings\n",
        "Qonly_text_string = Qonly_text_df.to_string()\n",
        "Rep_Qdf_string = Rep_Qdf.to_string()\n",
        "Dem_Qdf_string = Dem_Qdf.to_string()\n",
        "\n",
        "type(Qonly_text_string)"
      ],
      "metadata": {
        "colab": {
          "base_uri": "https://localhost:8080/"
        },
        "id": "aj00UCXFoR5U",
        "outputId": "c167df92-5888-460b-f4e5-6b3d5a513939"
      },
      "execution_count": 36,
      "outputs": [
        {
          "output_type": "execute_result",
          "data": {
            "text/plain": [
              "str"
            ]
          },
          "metadata": {},
          "execution_count": 36
        }
      ]
    },
    {
      "cell_type": "code",
      "source": [
        "##Tokenise the text\n",
        "Q_tokens = nltk.word_tokenize(Qonly_text_string)\n",
        "RQ_tokens = nltk.word_tokenize(Rep_Qdf_string)\n",
        "DQ_tokens = nltk.word_tokenize(Dem_Qdf_string)\n",
        "\n",
        "type(Q_tokens)"
      ],
      "metadata": {
        "id": "JaJy8W7FVO7u",
        "colab": {
          "base_uri": "https://localhost:8080/"
        },
        "outputId": "4f370a5b-d308-44ab-dfe6-f678294468b7"
      },
      "execution_count": 37,
      "outputs": [
        {
          "output_type": "execute_result",
          "data": {
            "text/plain": [
              "list"
            ]
          },
          "metadata": {},
          "execution_count": 37
        }
      ]
    },
    {
      "cell_type": "code",
      "source": [
        "##Convert to Text object\n",
        "Q_nltk_text = nltk.Text(Q_tokens)\n",
        "RQ_nltk_text = nltk.Text(RQ_tokens)\n",
        "DQ_nltk_text = nltk.Text(DQ_tokens)\n",
        "\n",
        "type(Q_nltk_text)"
      ],
      "metadata": {
        "id": "e2V9x5a0oadB",
        "colab": {
          "base_uri": "https://localhost:8080/"
        },
        "outputId": "989ec3c1-ed05-49cc-c9e6-a4b413a4d850"
      },
      "execution_count": 38,
      "outputs": [
        {
          "output_type": "execute_result",
          "data": {
            "text/plain": [
              "nltk.text.Text"
            ]
          },
          "metadata": {},
          "execution_count": 38
        }
      ]
    },
    {
      "cell_type": "code",
      "source": [
        "##Convert to lower case (will remove stop words later)\n",
        "Qtext_lower = [t.lower() for t in Q_nltk_text if t.isalnum()]\n",
        "RQtext_lower = [t.lower() for t in RQ_nltk_text if t.isalnum()]\n",
        "DQtext_lower = [t.lower() for t in DQ_nltk_text if t.isalnum()]"
      ],
      "metadata": {
        "id": "mlqHo6h2okqf"
      },
      "execution_count": 39,
      "outputs": []
    },
    {
      "cell_type": "code",
      "source": [
        "##Check result\n",
        "#DQtext_lower"
      ],
      "metadata": {
        "id": "Z3gFt69ZpFYo"
      },
      "execution_count": 40,
      "outputs": []
    },
    {
      "cell_type": "code",
      "source": [
        "##Need to add extra words to stop words:\n",
        "##Recurring words from Q&A appearing in topic modelling and tf-idf,\n",
        "##e.g. names of key committee members, and 'i yield back'\n",
        "##Using code from: https://stackoverflow.com/questions/5511708/adding-words-to-nltk-stoplist\n",
        "\n",
        "newStopWords = ['chairwoman','madam','recognized','time','back','powell','chair',\n",
        "                'mchenry','waters','chairman','gentleman','would','thank','think',\n",
        "                'yes','federal','reserve','fed','say','senator','did','ms','just',\n",
        "                'going','barr','hill','luetkemeyer','brown','crapo','want','know',\n",
        "                'like','said','gottheimer','meuser','norman','vargas','5','minutes',\n",
        "                'could','also','get','today','right','davidson']\n",
        "\n",
        "stops.extend(newStopWords)\n",
        "\n",
        "##Check\n",
        "#stops"
      ],
      "metadata": {
        "id": "aZb3AH85STpE"
      },
      "execution_count": 41,
      "outputs": []
    },
    {
      "cell_type": "code",
      "source": [
        "##Removing stop words\n",
        "Qtext_stops = [t for t in Qtext_lower if t not in stops]\n",
        "Rtext_stops = [t for t in RQtext_lower if t not in stops]\n",
        "Dtext_stops = [t for t in DQtext_lower if t not in stops]"
      ],
      "metadata": {
        "id": "vw5fCWU38c1h"
      },
      "execution_count": 42,
      "outputs": []
    },
    {
      "cell_type": "code",
      "source": [
        "##Check data\n",
        "#Dtext_stops"
      ],
      "metadata": {
        "id": "MfMnqGXU-EUC"
      },
      "execution_count": 43,
      "outputs": []
    },
    {
      "cell_type": "code",
      "source": [
        "##Save the three as text files\n",
        "with open(\"/content/gdrive/MyDrive/Final_Project/questions/questions.txt\", \"w\") as file:\n",
        "        file.write(str(Qtext_stops))\n",
        "with open(\"/content/gdrive/MyDrive/Final_Project/questions/Rquestions.txt\", \"w\") as file:\n",
        "        file.write(str(Rtext_stops))\n",
        "with open(\"/content/gdrive/MyDrive/Final_Project/questions/Dquestions.txt\", \"w\") as file:\n",
        "        file.write(str(Dtext_stops))"
      ],
      "metadata": {
        "id": "Yvl4UcBTJWS5"
      },
      "execution_count": 44,
      "outputs": []
    },
    {
      "cell_type": "markdown",
      "source": [
        "###Data Analysis"
      ],
      "metadata": {
        "id": "KSnswtx9F7_Y"
      }
    },
    {
      "cell_type": "markdown",
      "source": [
        "####Topic Modelling\n",
        "\n",
        "To start the analysis, I wanted to get an idea of the overall topics discussed during each testimony. I used Tomotopy for topic modelling, adapting code from [Krisel (2023)](https://github.com/rskrisel/topic_modeling_workshop)."
      ],
      "metadata": {
        "id": "ZQ-e-BuQ8UqS"
      }
    },
    {
      "cell_type": "code",
      "source": [
        "#Install and Import Packages\n",
        "!pip install tomotopy\n",
        "import tomotopy as tp\n",
        "import seaborn\n",
        "import glob\n",
        "from pathlib import Path\n"
      ],
      "metadata": {
        "colab": {
          "base_uri": "https://localhost:8080/"
        },
        "id": "kDMgHqW58bXs",
        "outputId": "56d64143-03b8-4155-e435-e0387523d3ea"
      },
      "execution_count": 45,
      "outputs": [
        {
          "output_type": "stream",
          "name": "stdout",
          "text": [
            "Requirement already satisfied: tomotopy in /usr/local/lib/python3.10/dist-packages (0.12.6)\n",
            "Requirement already satisfied: numpy>=1.11.0 in /usr/local/lib/python3.10/dist-packages (from tomotopy) (1.23.5)\n"
          ]
        }
      ]
    },
    {
      "cell_type": "code",
      "source": [
        "directory = \"/content/gdrive/MyDrive/Final_Project/files\""
      ],
      "metadata": {
        "id": "ZO4IIikl8a_d"
      },
      "execution_count": 46,
      "outputs": []
    },
    {
      "cell_type": "code",
      "source": [
        "##Use glob to list all the files\n",
        "files = glob.glob(f\"{directory}/*.txt\")"
      ],
      "metadata": {
        "id": "CzrEgPKHFj13"
      },
      "execution_count": 47,
      "outputs": []
    },
    {
      "cell_type": "code",
      "source": [
        "files"
      ],
      "metadata": {
        "id": "xbukwLK8Qbq9",
        "colab": {
          "base_uri": "https://localhost:8080/"
        },
        "outputId": "8961b529-746b-401f-e1cb-8fb8abe7e2c5"
      },
      "execution_count": 48,
      "outputs": [
        {
          "output_type": "execute_result",
          "data": {
            "text/plain": [
              "['/content/gdrive/MyDrive/Final_Project/files/2023_3_CFS_transcript.txt',\n",
              " '/content/gdrive/MyDrive/Final_Project/files/2022_6_CFS_transcript.txt',\n",
              " '/content/gdrive/MyDrive/Final_Project/files/2022_3_CFS_transcript.txt',\n",
              " '/content/gdrive/MyDrive/Final_Project/files/2021_7_CFS_transcript.txt',\n",
              " '/content/gdrive/MyDrive/Final_Project/files/2021_7_BHUA_transcript.txt',\n",
              " '/content/gdrive/MyDrive/Final_Project/files/2021_2_CFS_transcript.txt',\n",
              " '/content/gdrive/MyDrive/Final_Project/files/2021_2_BHUA_transcript.txt',\n",
              " '/content/gdrive/MyDrive/Final_Project/files/2020_6_CFS_transcript.txt',\n",
              " '/content/gdrive/MyDrive/Final_Project/files/2020_6_BHUA_transcript.txt',\n",
              " '/content/gdrive/MyDrive/Final_Project/files/2020_2_CFS_transcript.txt',\n",
              " '/content/gdrive/MyDrive/Final_Project/files/2020_2_BHUA_transcript.txt',\n",
              " '/content/gdrive/MyDrive/Final_Project/files/2019_7_CFS_transcript.txt',\n",
              " '/content/gdrive/MyDrive/Final_Project/files/2019_7_BHUA_transcript.txt',\n",
              " '/content/gdrive/MyDrive/Final_Project/files/2019_2_CFS_transcript.txt',\n",
              " '/content/gdrive/MyDrive/Final_Project/files/2019_2_BHUA_transcript.txt',\n",
              " '/content/gdrive/MyDrive/Final_Project/files/2018_7_CFS_transcript.txt',\n",
              " '/content/gdrive/MyDrive/Final_Project/files/2018_7_BHUA_transcript.txt',\n",
              " '/content/gdrive/MyDrive/Final_Project/files/2018_2_CFS_transcript.txt',\n",
              " '/content/gdrive/MyDrive/Final_Project/files/2018_3_BHUA_transcript.txt']"
            ]
          },
          "metadata": {},
          "execution_count": 48
        }
      ]
    },
    {
      "cell_type": "code",
      "source": [
        "##Process the texts and add them to training data\n",
        "\n",
        "training_data = []\n",
        "original_texts = []\n",
        "titles = []\n",
        "\n",
        "for file in files:\n",
        "    text = open(file, encoding='utf-8').read()\n",
        "    text_tokens = nltk.word_tokenize(text)\n",
        "    nltk_text = nltk.Text(text_tokens)\n",
        "    text_lower = [t.lower() for t in nltk_text if t.isalpha()]\n",
        "    text_stops = [t for t in text_lower if t not in stops]\n",
        "    text_string = ' '.join(text_stops)\n",
        "    training_data.append(text_string)\n",
        "    original_texts.append(text)\n",
        "    titles.append(Path(file).stem)"
      ],
      "metadata": {
        "id": "w4-rSmVeFuxf"
      },
      "execution_count": 49,
      "outputs": []
    },
    {
      "cell_type": "code",
      "source": [
        "len(training_data), len(original_texts), len(titles)"
      ],
      "metadata": {
        "id": "mMRzh7NIQ_Px",
        "colab": {
          "base_uri": "https://localhost:8080/"
        },
        "outputId": "b97f36f9-287d-4150-c9a7-b5f5b67b714d"
      },
      "execution_count": 50,
      "outputs": [
        {
          "output_type": "execute_result",
          "data": {
            "text/plain": [
              "(19, 19, 19)"
            ]
          },
          "metadata": {},
          "execution_count": 50
        }
      ]
    },
    {
      "cell_type": "code",
      "source": [
        "##Training topic model\n",
        "\n",
        "# Number of topics to return\n",
        "num_topics = 8\n",
        "# Numer of topic words to print out\n",
        "num_topic_words = 8\n",
        "\n",
        "# Intialize the model\n",
        "model = tp.LDAModel(k=num_topics)\n",
        "\n",
        "# Add each document to the model, after removing white space (strip)\n",
        "# and splitting it up into words (split)\n",
        "for text in training_data:\n",
        "    model.add_doc(text.strip().split())\n",
        "\n",
        "# The log-likelihood function is typically used to\n",
        "# derive the maximum likelihood estimator of the parameter\n",
        "print(\"Topic Model Training...\\n\\n\")\n",
        "iterations = 10\n",
        "for i in range(0, 100, iterations):\n",
        "    model.train(iterations)\n",
        "    print(f'Iteration: {i}\\tLog-likelihood: {model.ll_per_word}')\n",
        "\n",
        "print(\"\\nTopic Model Results:\\n\\n\")\n",
        "topics = []\n",
        "topic_individual_words = []\n",
        "for topic_number in range(0, num_topics):\n",
        "    topic_words = ' '.join(word for word, prob in model.get_topic_words(topic_id=topic_number, top_n=num_topic_words))\n",
        "    topics.append(topic_words)\n",
        "    topic_individual_words.append(topic_words.split())\n",
        "    print(f\"✨Topic {topic_number}✨\\n\\n{topic_words}\\n\")"
      ],
      "metadata": {
        "id": "jMzEmzL1RZek",
        "colab": {
          "base_uri": "https://localhost:8080/"
        },
        "outputId": "24a03390-f740-47d8-e32a-3a215504c3b1"
      },
      "execution_count": 51,
      "outputs": [
        {
          "output_type": "stream",
          "name": "stdout",
          "text": [
            "Topic Model Training...\n",
            "\n",
            "\n",
            "Iteration: 0\tLog-likelihood: -9.192875721993785\n",
            "Iteration: 10\tLog-likelihood: -8.78242006034627\n",
            "Iteration: 20\tLog-likelihood: -8.626087156414863\n",
            "Iteration: 30\tLog-likelihood: -8.541269950029875\n",
            "Iteration: 40\tLog-likelihood: -8.491694241614148\n",
            "Iteration: 50\tLog-likelihood: -8.454693911357802\n",
            "Iteration: 60\tLog-likelihood: -8.428967702731955\n",
            "Iteration: 70\tLog-likelihood: -8.401184374627045\n",
            "Iteration: 80\tLog-likelihood: -8.381672665064372\n",
            "Iteration: 90\tLog-likelihood: -8.36827085839174\n",
            "\n",
            "Topic Model Results:\n",
            "\n",
            "\n",
            "✨Topic 0✨\n",
            "\n",
            "inflation year prices one housing price high things\n",
            "\n",
            "✨Topic 1✨\n",
            "\n",
            "economy policy labor financial employment percent monetary workers\n",
            "\n",
            "✨Topic 2✨\n",
            "\n",
            "board bank economic rate credit growth banking including\n",
            "\n",
            "✨Topic 3✨\n",
            "\n",
            "financial banks continue last stability large report committee\n",
            "\n",
            "✨Topic 4✨\n",
            "\n",
            "policy economy really look us rate much committee\n",
            "\n",
            "✨Topic 5✨\n",
            "\n",
            "capital years banks growth regulatory trade wage good\n",
            "\n",
            "✨Topic 6✨\n",
            "\n",
            "support businesses economy economic pandemic unemployment work street\n",
            "\n",
            "✨Topic 7✨\n",
            "\n",
            "people congress market still questions make balance money\n",
            "\n"
          ]
        }
      ]
    },
    {
      "cell_type": "code",
      "source": [
        "##Loading the topic distributions\n",
        "topic_distributions = [list(doc.get_topic_dist()) for doc in model.docs]"
      ],
      "metadata": {
        "id": "FLibK-MiVy2K"
      },
      "execution_count": 52,
      "outputs": []
    },
    {
      "cell_type": "code",
      "source": [
        "##Make functions for displaying top documents\n",
        "##from Maria Antoniak's Little Mallet Wrapper\n",
        "\n",
        "from IPython.display import Markdown, display\n",
        "# IPython means interactive Python. It is an interactive command-line terminal for Python.\n",
        "import re\n",
        "# A RegEx, or Regular Expression, is a sequence of characters that forms a search pattern.\n",
        "# RegEx can be used to check if a string contains the specified search pattern.\n",
        "\n",
        "def make_md(string):\n",
        "    display(Markdown(str(string)))\n",
        "\n",
        "def get_top_docs(docs, topic_distributions, topic_index, n=5):\n",
        "#     The zip() function takes iterables (can be zero or more), aggregates them in a tuple, and returns it.\n",
        "\n",
        "    sorted_data = sorted([(_distribution[topic_index], _document)\n",
        "                          for _distribution, _document\n",
        "                          in zip(topic_distributions, docs)], reverse=True)\n",
        "\n",
        "    topic_words = topics[topic_index]\n",
        "\n",
        "    make_md(f\"### Topic {topic_index}\\n\\n{topic_words}\\n\\n---\")\n",
        "\n",
        "    for probability, doc in sorted_data[:n]:\n",
        "        # Make topic words bolded\n",
        "        for word in topic_words.split():\n",
        "            if word in doc.lower():\n",
        "                doc = re.sub(f\"\\\\b{word}\\\\b\", f\"**{word}**\", doc, re.IGNORECASE)\n",
        "\n",
        "        make_md(f'  \\n**Topic Probability**: {probability}  \\n**Document**: {doc}\\n\\n')\n",
        "\n",
        "    return"
      ],
      "metadata": {
        "id": "9_Ef-JNnV6H3"
      },
      "execution_count": 53,
      "outputs": []
    },
    {
      "cell_type": "code",
      "source": [
        "##Heatmap code\n",
        "import matplotlib.pyplot as plt\n",
        "import seaborn as sns\n",
        "sns.set(style='ticks', font_scale=1.2)\n",
        "def plot_categories_by_topics_heatmap(labels,\n",
        "                                      topic_distributions,\n",
        "                                      topic_keys,\n",
        "                                      output_path=None,\n",
        "                                      target_labels=None,\n",
        "                                      color_map = sns.cm.rocket_r,\n",
        "                                      dim=None):\n",
        "\n",
        "# Combine the labels and distributions into a list of dictionaries.\n",
        "#The zip() function takes iterables (can be zero or more), aggregates them in a tuple, and returns it.\n",
        "    dicts_to_plot = []\n",
        "    for _label, _distribution in zip(labels, topic_distributions):\n",
        "        if not target_labels or _label in target_labels:\n",
        "            for _topic_index, _probability in enumerate(_distribution):\n",
        "                dicts_to_plot.append({'Probability': float(_probability),\n",
        "                                      'Category': _label,\n",
        "                                      'Topic': 'Topic ' + str(_topic_index).zfill(2) + ': ' + ' '.join(topic_keys[_topic_index][:5])})\n",
        "\n",
        "    # Create a dataframe, format it for the heatmap function, and normalize the columns.\n",
        "    df_to_plot = pd.DataFrame(dicts_to_plot)\n",
        "    df_wide = df_to_plot.pivot_table(index='Category',\n",
        "                                     columns='Topic',\n",
        "                                     values='Probability')\n",
        "    df_norm_col=(df_wide-df_wide.mean())/df_wide.std()\n",
        "\n",
        "    # Show the final plot.\n",
        "    if dim:\n",
        "        plt.figure(figsize=dim)\n",
        "    sns.set(style='ticks', font_scale=1.2)\n",
        "    ax = sns.heatmap(df_norm_col, cmap=color_map)\n",
        "    ax.xaxis.tick_top()\n",
        "    ax.xaxis.set_label_position('top')\n",
        "    plt.xticks(rotation=30, ha='left')\n",
        "    plt.tight_layout()\n",
        "    if output_path:\n",
        "        plt.savefig(output_path)\n",
        "    plt.show()"
      ],
      "metadata": {
        "id": "W6OgSRIeWKBd"
      },
      "execution_count": 54,
      "outputs": []
    },
    {
      "cell_type": "code",
      "source": [
        "target_labels = titles"
      ],
      "metadata": {
        "id": "bcW_F--UWPhL"
      },
      "execution_count": 55,
      "outputs": []
    },
    {
      "cell_type": "markdown",
      "source": [
        "####TF-IDF\n",
        "\n",
        "Next I used TF-IDF with scikit-learn to identify important words used in the questions, adapting code from [Krisel (2023)](https://github.com/rskrisel/tf-idf/blob/main/README.md)."
      ],
      "metadata": {
        "id": "3qlsmWE_Ggv1"
      }
    },
    {
      "cell_type": "code",
      "source": [
        "##Import modules and libraries\n",
        "from sklearn.feature_extraction.text import TfidfVectorizer\n",
        "from sklearn.feature_extraction.text import CountVectorizer\n",
        "pd.options.display.max_rows = 600\n",
        "from pathlib import Path"
      ],
      "metadata": {
        "id": "iE31P9YGGf9H"
      },
      "execution_count": 56,
      "outputs": []
    },
    {
      "cell_type": "code",
      "source": [
        "##Set directory path\n",
        "directory_path = \"/content/gdrive/MyDrive/Final_Project/questions\""
      ],
      "metadata": {
        "id": "mAsRfSzcH3pv"
      },
      "execution_count": 57,
      "outputs": []
    },
    {
      "cell_type": "code",
      "source": [
        "##Glob\n",
        "text_files = glob.glob(f\"{directory_path}/*.txt\")"
      ],
      "metadata": {
        "id": "hK3UPq84IItZ"
      },
      "execution_count": 58,
      "outputs": []
    },
    {
      "cell_type": "code",
      "source": [
        "##Check\n",
        "text_files"
      ],
      "metadata": {
        "colab": {
          "base_uri": "https://localhost:8080/"
        },
        "id": "CcaqyINaIMQQ",
        "outputId": "293444c2-eb08-4e0d-f3c8-bacf1e4630a3"
      },
      "execution_count": 59,
      "outputs": [
        {
          "output_type": "execute_result",
          "data": {
            "text/plain": [
              "['/content/gdrive/MyDrive/Final_Project/questions/questions.txt',\n",
              " '/content/gdrive/MyDrive/Final_Project/questions/Rquestions.txt',\n",
              " '/content/gdrive/MyDrive/Final_Project/questions/Dquestions.txt']"
            ]
          },
          "metadata": {},
          "execution_count": 59
        }
      ]
    },
    {
      "cell_type": "code",
      "source": [
        "##Stem\n",
        "text_titles = [Path(text).stem for text in text_files]\n",
        "text_titles"
      ],
      "metadata": {
        "colab": {
          "base_uri": "https://localhost:8080/"
        },
        "id": "06fJxUIyIP1C",
        "outputId": "6600dd3a-8841-454c-c093-30ca427e9e0d"
      },
      "execution_count": 60,
      "outputs": [
        {
          "output_type": "execute_result",
          "data": {
            "text/plain": [
              "['questions', 'Rquestions', 'Dquestions']"
            ]
          },
          "metadata": {},
          "execution_count": 60
        }
      ]
    },
    {
      "cell_type": "code",
      "source": [
        "##Initialize TfidfVectorizer\n",
        "tfidf_vectorizer = TfidfVectorizer(input='filename', stop_words='english')\n",
        "\n",
        "##Convert to matrix form\n",
        "tfidf_vector = tfidf_vectorizer.fit_transform(text_files)"
      ],
      "metadata": {
        "id": "nx3TbN2sIZ2B"
      },
      "execution_count": 61,
      "outputs": []
    },
    {
      "cell_type": "code",
      "source": [
        "##Check data type\n",
        "type(tfidf_vector)"
      ],
      "metadata": {
        "colab": {
          "base_uri": "https://localhost:8080/"
        },
        "id": "Q7pcaPFALai_",
        "outputId": "2444bf6e-9d30-4350-f2c9-9a7ba419266b"
      },
      "execution_count": 62,
      "outputs": [
        {
          "output_type": "execute_result",
          "data": {
            "text/plain": [
              "scipy.sparse._csr.csr_matrix"
            ]
          },
          "metadata": {},
          "execution_count": 62
        }
      ]
    },
    {
      "cell_type": "code",
      "source": [
        "##Convert to a dataframe\n",
        "tfidf_df = pd.DataFrame(tfidf_vector.toarray(), index=text_titles, columns=tfidf_vectorizer.get_feature_names_out())\n",
        "\n",
        "##Stack it\n",
        "tfidf_df = tfidf_df.stack().reset_index()\n",
        "\n",
        "##Rename columns\n",
        "tfidf_df = tfidf_df.rename(columns={0:'tfidf', 'level_0': 'document','level_1': 'term'})"
      ],
      "metadata": {
        "id": "e5oeGs-9L02x"
      },
      "execution_count": 63,
      "outputs": []
    },
    {
      "cell_type": "code",
      "source": [
        "##Check result\n",
        "#tfidf_df"
      ],
      "metadata": {
        "id": "q1ItoxuFMgSi"
      },
      "execution_count": 64,
      "outputs": []
    },
    {
      "cell_type": "code",
      "source": [
        "##Find top 10 words with the highest tf–idf\n",
        "top_tfidf = tfidf_df.sort_values(by=['document','tfidf'], ascending=[True,False]).groupby(['document']).head(10)"
      ],
      "metadata": {
        "id": "qwIGXambM0NX"
      },
      "execution_count": 65,
      "outputs": []
    },
    {
      "cell_type": "code",
      "source": [
        "##Check result\n",
        "top_tfidf\n",
        "\n",
        "###Need to add to stop words: think, did, ms, waters, just, thank, going, chair, barr, hill, luetkemeyer, chairman, ..."
      ],
      "metadata": {
        "colab": {
          "base_uri": "https://localhost:8080/",
          "height": 979
        },
        "id": "3fQ7Rl2FM7bL",
        "outputId": "154dac81-114d-442f-ebe4-02e46bda0171"
      },
      "execution_count": 66,
      "outputs": [
        {
          "output_type": "execute_result",
          "data": {
            "text/plain": [
              "        document       term     tfidf\n",
              "5558  Dquestions  inflation  0.285483\n",
              "4813  Dquestions      banks  0.244700\n",
              "5126  Dquestions       debt  0.163133\n",
              "5913  Dquestions     people  0.152937\n",
              "6639  Dquestions      years  0.122350\n",
              "4965  Dquestions    climate  0.112154\n",
              "5699  Dquestions       look  0.112154\n",
              "6068  Dquestions       rate  0.112154\n",
              "6570  Dquestions      wages  0.112154\n",
              "5679  Dquestions      limit  0.101958\n",
              "3732  Rquestions     policy  0.180520\n",
              "2598  Rquestions      banks  0.156451\n",
              "2629  Rquestions      board  0.156451\n",
              "2750  Rquestions    climate  0.144416\n",
              "3699  Rquestions    percent  0.144416\n",
              "3142  Rquestions     fiscal  0.132382\n",
              "2686  Rquestions    capital  0.120347\n",
              "3138  Rquestions  financial  0.120347\n",
              "3731  Rquestions   policies  0.120347\n",
              "2716  Rquestions       cfpb  0.108312\n",
              "1128   questions  inflation  0.237090\n",
              "383    questions      banks  0.185953\n",
              "696    questions       debt  0.172006\n",
              "1483   questions     people  0.158060\n",
              "2209   questions      years  0.153411\n",
              "1484   questions    percent  0.148762\n",
              "1517   questions     policy  0.125518\n",
              "1638   questions       rate  0.125518\n",
              "471    questions    capital  0.106923\n",
              "535    questions    climate  0.106923"
            ],
            "text/html": [
              "\n",
              "  <div id=\"df-276bd1b9-91e0-4c77-8913-e288333a02dc\" class=\"colab-df-container\">\n",
              "    <div>\n",
              "<style scoped>\n",
              "    .dataframe tbody tr th:only-of-type {\n",
              "        vertical-align: middle;\n",
              "    }\n",
              "\n",
              "    .dataframe tbody tr th {\n",
              "        vertical-align: top;\n",
              "    }\n",
              "\n",
              "    .dataframe thead th {\n",
              "        text-align: right;\n",
              "    }\n",
              "</style>\n",
              "<table border=\"1\" class=\"dataframe\">\n",
              "  <thead>\n",
              "    <tr style=\"text-align: right;\">\n",
              "      <th></th>\n",
              "      <th>document</th>\n",
              "      <th>term</th>\n",
              "      <th>tfidf</th>\n",
              "    </tr>\n",
              "  </thead>\n",
              "  <tbody>\n",
              "    <tr>\n",
              "      <th>5558</th>\n",
              "      <td>Dquestions</td>\n",
              "      <td>inflation</td>\n",
              "      <td>0.285483</td>\n",
              "    </tr>\n",
              "    <tr>\n",
              "      <th>4813</th>\n",
              "      <td>Dquestions</td>\n",
              "      <td>banks</td>\n",
              "      <td>0.244700</td>\n",
              "    </tr>\n",
              "    <tr>\n",
              "      <th>5126</th>\n",
              "      <td>Dquestions</td>\n",
              "      <td>debt</td>\n",
              "      <td>0.163133</td>\n",
              "    </tr>\n",
              "    <tr>\n",
              "      <th>5913</th>\n",
              "      <td>Dquestions</td>\n",
              "      <td>people</td>\n",
              "      <td>0.152937</td>\n",
              "    </tr>\n",
              "    <tr>\n",
              "      <th>6639</th>\n",
              "      <td>Dquestions</td>\n",
              "      <td>years</td>\n",
              "      <td>0.122350</td>\n",
              "    </tr>\n",
              "    <tr>\n",
              "      <th>4965</th>\n",
              "      <td>Dquestions</td>\n",
              "      <td>climate</td>\n",
              "      <td>0.112154</td>\n",
              "    </tr>\n",
              "    <tr>\n",
              "      <th>5699</th>\n",
              "      <td>Dquestions</td>\n",
              "      <td>look</td>\n",
              "      <td>0.112154</td>\n",
              "    </tr>\n",
              "    <tr>\n",
              "      <th>6068</th>\n",
              "      <td>Dquestions</td>\n",
              "      <td>rate</td>\n",
              "      <td>0.112154</td>\n",
              "    </tr>\n",
              "    <tr>\n",
              "      <th>6570</th>\n",
              "      <td>Dquestions</td>\n",
              "      <td>wages</td>\n",
              "      <td>0.112154</td>\n",
              "    </tr>\n",
              "    <tr>\n",
              "      <th>5679</th>\n",
              "      <td>Dquestions</td>\n",
              "      <td>limit</td>\n",
              "      <td>0.101958</td>\n",
              "    </tr>\n",
              "    <tr>\n",
              "      <th>3732</th>\n",
              "      <td>Rquestions</td>\n",
              "      <td>policy</td>\n",
              "      <td>0.180520</td>\n",
              "    </tr>\n",
              "    <tr>\n",
              "      <th>2598</th>\n",
              "      <td>Rquestions</td>\n",
              "      <td>banks</td>\n",
              "      <td>0.156451</td>\n",
              "    </tr>\n",
              "    <tr>\n",
              "      <th>2629</th>\n",
              "      <td>Rquestions</td>\n",
              "      <td>board</td>\n",
              "      <td>0.156451</td>\n",
              "    </tr>\n",
              "    <tr>\n",
              "      <th>2750</th>\n",
              "      <td>Rquestions</td>\n",
              "      <td>climate</td>\n",
              "      <td>0.144416</td>\n",
              "    </tr>\n",
              "    <tr>\n",
              "      <th>3699</th>\n",
              "      <td>Rquestions</td>\n",
              "      <td>percent</td>\n",
              "      <td>0.144416</td>\n",
              "    </tr>\n",
              "    <tr>\n",
              "      <th>3142</th>\n",
              "      <td>Rquestions</td>\n",
              "      <td>fiscal</td>\n",
              "      <td>0.132382</td>\n",
              "    </tr>\n",
              "    <tr>\n",
              "      <th>2686</th>\n",
              "      <td>Rquestions</td>\n",
              "      <td>capital</td>\n",
              "      <td>0.120347</td>\n",
              "    </tr>\n",
              "    <tr>\n",
              "      <th>3138</th>\n",
              "      <td>Rquestions</td>\n",
              "      <td>financial</td>\n",
              "      <td>0.120347</td>\n",
              "    </tr>\n",
              "    <tr>\n",
              "      <th>3731</th>\n",
              "      <td>Rquestions</td>\n",
              "      <td>policies</td>\n",
              "      <td>0.120347</td>\n",
              "    </tr>\n",
              "    <tr>\n",
              "      <th>2716</th>\n",
              "      <td>Rquestions</td>\n",
              "      <td>cfpb</td>\n",
              "      <td>0.108312</td>\n",
              "    </tr>\n",
              "    <tr>\n",
              "      <th>1128</th>\n",
              "      <td>questions</td>\n",
              "      <td>inflation</td>\n",
              "      <td>0.237090</td>\n",
              "    </tr>\n",
              "    <tr>\n",
              "      <th>383</th>\n",
              "      <td>questions</td>\n",
              "      <td>banks</td>\n",
              "      <td>0.185953</td>\n",
              "    </tr>\n",
              "    <tr>\n",
              "      <th>696</th>\n",
              "      <td>questions</td>\n",
              "      <td>debt</td>\n",
              "      <td>0.172006</td>\n",
              "    </tr>\n",
              "    <tr>\n",
              "      <th>1483</th>\n",
              "      <td>questions</td>\n",
              "      <td>people</td>\n",
              "      <td>0.158060</td>\n",
              "    </tr>\n",
              "    <tr>\n",
              "      <th>2209</th>\n",
              "      <td>questions</td>\n",
              "      <td>years</td>\n",
              "      <td>0.153411</td>\n",
              "    </tr>\n",
              "    <tr>\n",
              "      <th>1484</th>\n",
              "      <td>questions</td>\n",
              "      <td>percent</td>\n",
              "      <td>0.148762</td>\n",
              "    </tr>\n",
              "    <tr>\n",
              "      <th>1517</th>\n",
              "      <td>questions</td>\n",
              "      <td>policy</td>\n",
              "      <td>0.125518</td>\n",
              "    </tr>\n",
              "    <tr>\n",
              "      <th>1638</th>\n",
              "      <td>questions</td>\n",
              "      <td>rate</td>\n",
              "      <td>0.125518</td>\n",
              "    </tr>\n",
              "    <tr>\n",
              "      <th>471</th>\n",
              "      <td>questions</td>\n",
              "      <td>capital</td>\n",
              "      <td>0.106923</td>\n",
              "    </tr>\n",
              "    <tr>\n",
              "      <th>535</th>\n",
              "      <td>questions</td>\n",
              "      <td>climate</td>\n",
              "      <td>0.106923</td>\n",
              "    </tr>\n",
              "  </tbody>\n",
              "</table>\n",
              "</div>\n",
              "    <div class=\"colab-df-buttons\">\n",
              "\n",
              "  <div class=\"colab-df-container\">\n",
              "    <button class=\"colab-df-convert\" onclick=\"convertToInteractive('df-276bd1b9-91e0-4c77-8913-e288333a02dc')\"\n",
              "            title=\"Convert this dataframe to an interactive table.\"\n",
              "            style=\"display:none;\">\n",
              "\n",
              "  <svg xmlns=\"http://www.w3.org/2000/svg\" height=\"24px\" viewBox=\"0 -960 960 960\">\n",
              "    <path d=\"M120-120v-720h720v720H120Zm60-500h600v-160H180v160Zm220 220h160v-160H400v160Zm0 220h160v-160H400v160ZM180-400h160v-160H180v160Zm440 0h160v-160H620v160ZM180-180h160v-160H180v160Zm440 0h160v-160H620v160Z\"/>\n",
              "  </svg>\n",
              "    </button>\n",
              "\n",
              "  <style>\n",
              "    .colab-df-container {\n",
              "      display:flex;\n",
              "      gap: 12px;\n",
              "    }\n",
              "\n",
              "    .colab-df-convert {\n",
              "      background-color: #E8F0FE;\n",
              "      border: none;\n",
              "      border-radius: 50%;\n",
              "      cursor: pointer;\n",
              "      display: none;\n",
              "      fill: #1967D2;\n",
              "      height: 32px;\n",
              "      padding: 0 0 0 0;\n",
              "      width: 32px;\n",
              "    }\n",
              "\n",
              "    .colab-df-convert:hover {\n",
              "      background-color: #E2EBFA;\n",
              "      box-shadow: 0px 1px 2px rgba(60, 64, 67, 0.3), 0px 1px 3px 1px rgba(60, 64, 67, 0.15);\n",
              "      fill: #174EA6;\n",
              "    }\n",
              "\n",
              "    .colab-df-buttons div {\n",
              "      margin-bottom: 4px;\n",
              "    }\n",
              "\n",
              "    [theme=dark] .colab-df-convert {\n",
              "      background-color: #3B4455;\n",
              "      fill: #D2E3FC;\n",
              "    }\n",
              "\n",
              "    [theme=dark] .colab-df-convert:hover {\n",
              "      background-color: #434B5C;\n",
              "      box-shadow: 0px 1px 3px 1px rgba(0, 0, 0, 0.15);\n",
              "      filter: drop-shadow(0px 1px 2px rgba(0, 0, 0, 0.3));\n",
              "      fill: #FFFFFF;\n",
              "    }\n",
              "  </style>\n",
              "\n",
              "    <script>\n",
              "      const buttonEl =\n",
              "        document.querySelector('#df-276bd1b9-91e0-4c77-8913-e288333a02dc button.colab-df-convert');\n",
              "      buttonEl.style.display =\n",
              "        google.colab.kernel.accessAllowed ? 'block' : 'none';\n",
              "\n",
              "      async function convertToInteractive(key) {\n",
              "        const element = document.querySelector('#df-276bd1b9-91e0-4c77-8913-e288333a02dc');\n",
              "        const dataTable =\n",
              "          await google.colab.kernel.invokeFunction('convertToInteractive',\n",
              "                                                    [key], {});\n",
              "        if (!dataTable) return;\n",
              "\n",
              "        const docLinkHtml = 'Like what you see? Visit the ' +\n",
              "          '<a target=\"_blank\" href=https://colab.research.google.com/notebooks/data_table.ipynb>data table notebook</a>'\n",
              "          + ' to learn more about interactive tables.';\n",
              "        element.innerHTML = '';\n",
              "        dataTable['output_type'] = 'display_data';\n",
              "        await google.colab.output.renderOutput(dataTable, element);\n",
              "        const docLink = document.createElement('div');\n",
              "        docLink.innerHTML = docLinkHtml;\n",
              "        element.appendChild(docLink);\n",
              "      }\n",
              "    </script>\n",
              "  </div>\n",
              "\n",
              "\n",
              "<div id=\"df-b9ea38fb-bfc7-4e42-a3e1-f0a02202f55a\">\n",
              "  <button class=\"colab-df-quickchart\" onclick=\"quickchart('df-b9ea38fb-bfc7-4e42-a3e1-f0a02202f55a')\"\n",
              "            title=\"Suggest charts\"\n",
              "            style=\"display:none;\">\n",
              "\n",
              "<svg xmlns=\"http://www.w3.org/2000/svg\" height=\"24px\"viewBox=\"0 0 24 24\"\n",
              "     width=\"24px\">\n",
              "    <g>\n",
              "        <path d=\"M19 3H5c-1.1 0-2 .9-2 2v14c0 1.1.9 2 2 2h14c1.1 0 2-.9 2-2V5c0-1.1-.9-2-2-2zM9 17H7v-7h2v7zm4 0h-2V7h2v10zm4 0h-2v-4h2v4z\"/>\n",
              "    </g>\n",
              "</svg>\n",
              "  </button>\n",
              "\n",
              "<style>\n",
              "  .colab-df-quickchart {\n",
              "      --bg-color: #E8F0FE;\n",
              "      --fill-color: #1967D2;\n",
              "      --hover-bg-color: #E2EBFA;\n",
              "      --hover-fill-color: #174EA6;\n",
              "      --disabled-fill-color: #AAA;\n",
              "      --disabled-bg-color: #DDD;\n",
              "  }\n",
              "\n",
              "  [theme=dark] .colab-df-quickchart {\n",
              "      --bg-color: #3B4455;\n",
              "      --fill-color: #D2E3FC;\n",
              "      --hover-bg-color: #434B5C;\n",
              "      --hover-fill-color: #FFFFFF;\n",
              "      --disabled-bg-color: #3B4455;\n",
              "      --disabled-fill-color: #666;\n",
              "  }\n",
              "\n",
              "  .colab-df-quickchart {\n",
              "    background-color: var(--bg-color);\n",
              "    border: none;\n",
              "    border-radius: 50%;\n",
              "    cursor: pointer;\n",
              "    display: none;\n",
              "    fill: var(--fill-color);\n",
              "    height: 32px;\n",
              "    padding: 0;\n",
              "    width: 32px;\n",
              "  }\n",
              "\n",
              "  .colab-df-quickchart:hover {\n",
              "    background-color: var(--hover-bg-color);\n",
              "    box-shadow: 0 1px 2px rgba(60, 64, 67, 0.3), 0 1px 3px 1px rgba(60, 64, 67, 0.15);\n",
              "    fill: var(--button-hover-fill-color);\n",
              "  }\n",
              "\n",
              "  .colab-df-quickchart-complete:disabled,\n",
              "  .colab-df-quickchart-complete:disabled:hover {\n",
              "    background-color: var(--disabled-bg-color);\n",
              "    fill: var(--disabled-fill-color);\n",
              "    box-shadow: none;\n",
              "  }\n",
              "\n",
              "  .colab-df-spinner {\n",
              "    border: 2px solid var(--fill-color);\n",
              "    border-color: transparent;\n",
              "    border-bottom-color: var(--fill-color);\n",
              "    animation:\n",
              "      spin 1s steps(1) infinite;\n",
              "  }\n",
              "\n",
              "  @keyframes spin {\n",
              "    0% {\n",
              "      border-color: transparent;\n",
              "      border-bottom-color: var(--fill-color);\n",
              "      border-left-color: var(--fill-color);\n",
              "    }\n",
              "    20% {\n",
              "      border-color: transparent;\n",
              "      border-left-color: var(--fill-color);\n",
              "      border-top-color: var(--fill-color);\n",
              "    }\n",
              "    30% {\n",
              "      border-color: transparent;\n",
              "      border-left-color: var(--fill-color);\n",
              "      border-top-color: var(--fill-color);\n",
              "      border-right-color: var(--fill-color);\n",
              "    }\n",
              "    40% {\n",
              "      border-color: transparent;\n",
              "      border-right-color: var(--fill-color);\n",
              "      border-top-color: var(--fill-color);\n",
              "    }\n",
              "    60% {\n",
              "      border-color: transparent;\n",
              "      border-right-color: var(--fill-color);\n",
              "    }\n",
              "    80% {\n",
              "      border-color: transparent;\n",
              "      border-right-color: var(--fill-color);\n",
              "      border-bottom-color: var(--fill-color);\n",
              "    }\n",
              "    90% {\n",
              "      border-color: transparent;\n",
              "      border-bottom-color: var(--fill-color);\n",
              "    }\n",
              "  }\n",
              "</style>\n",
              "\n",
              "  <script>\n",
              "    async function quickchart(key) {\n",
              "      const quickchartButtonEl =\n",
              "        document.querySelector('#' + key + ' button');\n",
              "      quickchartButtonEl.disabled = true;  // To prevent multiple clicks.\n",
              "      quickchartButtonEl.classList.add('colab-df-spinner');\n",
              "      try {\n",
              "        const charts = await google.colab.kernel.invokeFunction(\n",
              "            'suggestCharts', [key], {});\n",
              "      } catch (error) {\n",
              "        console.error('Error during call to suggestCharts:', error);\n",
              "      }\n",
              "      quickchartButtonEl.classList.remove('colab-df-spinner');\n",
              "      quickchartButtonEl.classList.add('colab-df-quickchart-complete');\n",
              "    }\n",
              "    (() => {\n",
              "      let quickchartButtonEl =\n",
              "        document.querySelector('#df-b9ea38fb-bfc7-4e42-a3e1-f0a02202f55a button');\n",
              "      quickchartButtonEl.style.display =\n",
              "        google.colab.kernel.accessAllowed ? 'block' : 'none';\n",
              "    })();\n",
              "  </script>\n",
              "</div>\n",
              "    </div>\n",
              "  </div>\n"
            ]
          },
          "metadata": {},
          "execution_count": 66
        }
      ]
    },
    {
      "cell_type": "markdown",
      "source": [
        "##Results and Discussion\n",
        "\n"
      ],
      "metadata": {
        "id": "GXp8ctQ08b0p"
      }
    },
    {
      "cell_type": "markdown",
      "source": [
        "###Topic Modelling\n",
        "\n",
        "Using topic modelling on the complete set of transcripts reveals a focus on the economy, financial markets, the labor market, inflation and prices, credit and lending. These are all areas that relate to the Fed's mandate, and increasing interest in particular topics over time (shown on the heatmap below) can easily be mapped to certain events.\n",
        "\n",
        "Considering topics 6, 5 and 2, and 0:\n",
        "\n",
        "\n",
        "*   Topics 5 and 2 were more likely to feature in 2018 transcripts, when the ['Economic Growth, Regulatory Relief, and Consumer Protection Act'](https://www.congress.gov/bill/115th-congress/senate-bill/2155) was passed. The bill eased prudential standards, including capital requirements, on large banks.\n",
        "*   Topic 6 was more likely to be discussed at the start of the pandemic, when the Fed was taking extraordinary measures to support the US economy including implementing the [Main Street Lending facility](https://www.federalreserve.gov/monetarypolicy/mainstreetlending.htm).\n",
        "*   Topic 0 has been more frequently discussed in recent hearings, since the Fed has been increasing its policy rate to address high inflation."
      ],
      "metadata": {
        "id": "vYMLuAj2ghgI"
      }
    },
    {
      "cell_type": "code",
      "source": [
        "plot_categories_by_topics_heatmap(titles,\n",
        "                                  topic_distributions,\n",
        "                                  topic_individual_words,\n",
        "                                  target_labels=target_labels,\n",
        "                                  color_map = 'Greens',\n",
        "                                 dim=(12,9))"
      ],
      "metadata": {
        "colab": {
          "base_uri": "https://localhost:8080/",
          "height": 913
        },
        "id": "2oC2bKqMWR4V",
        "outputId": "a44c23f4-68c2-4608-fab2-2ebac13b466c"
      },
      "execution_count": 67,
      "outputs": [
        {
          "output_type": "display_data",
          "data": {
            "text/plain": [
              "<Figure size 1200x900 with 2 Axes>"
            ],
            "image/png": "[encoded data removed]"
          },
          "metadata": {}
        }
      ]
    },
    {
      "cell_type": "code",
      "source": [
        "get_top_docs(titles, topic_distributions, topic_index=6, n=4)"
      ],
      "metadata": {
        "colab": {
          "base_uri": "https://localhost:8080/",
          "height": 251
        },
        "id": "eCYXqtOsKsiL",
        "outputId": "f61b9bf5-6ba9-456d-f59f-4daeff8c5c22"
      },
      "execution_count": 80,
      "outputs": [
        {
          "output_type": "display_data",
          "data": {
            "text/plain": [
              "<IPython.core.display.Markdown object>"
            ],
            "text/markdown": "### Topic 6\n\nsupport businesses economy economic pandemic unemployment work street\n\n---"
          },
          "metadata": {}
        },
        {
          "output_type": "display_data",
          "data": {
            "text/plain": [
              "<IPython.core.display.Markdown object>"
            ],
            "text/markdown": "  \n**Topic Probability**: 0.3433426320552826  \n**Document**: 2020_6_BHUA_transcript\n\n"
          },
          "metadata": {}
        },
        {
          "output_type": "display_data",
          "data": {
            "text/plain": [
              "<IPython.core.display.Markdown object>"
            ],
            "text/markdown": "  \n**Topic Probability**: 0.2536140978336334  \n**Document**: 2020_6_CFS_transcript\n\n"
          },
          "metadata": {}
        },
        {
          "output_type": "display_data",
          "data": {
            "text/plain": [
              "<IPython.core.display.Markdown object>"
            ],
            "text/markdown": "  \n**Topic Probability**: 0.14050175249576569  \n**Document**: 2021_2_CFS_transcript\n\n"
          },
          "metadata": {}
        },
        {
          "output_type": "display_data",
          "data": {
            "text/plain": [
              "<IPython.core.display.Markdown object>"
            ],
            "text/markdown": "  \n**Topic Probability**: 0.1386437714099884  \n**Document**: 2021_2_BHUA_transcript\n\n"
          },
          "metadata": {}
        }
      ]
    },
    {
      "cell_type": "code",
      "source": [
        "get_top_docs(titles, topic_distributions, topic_index=5, n=4)"
      ],
      "metadata": {
        "colab": {
          "base_uri": "https://localhost:8080/",
          "height": 251
        },
        "id": "DJMTtOdgZO4C",
        "outputId": "b1d1cb7e-7f0a-4469-d842-c0fa6306a302"
      },
      "execution_count": 84,
      "outputs": [
        {
          "output_type": "display_data",
          "data": {
            "text/plain": [
              "<IPython.core.display.Markdown object>"
            ],
            "text/markdown": "### Topic 5\n\ncapital years banks growth regulatory trade wage good\n\n---"
          },
          "metadata": {}
        },
        {
          "output_type": "display_data",
          "data": {
            "text/plain": [
              "<IPython.core.display.Markdown object>"
            ],
            "text/markdown": "  \n**Topic Probability**: 0.2141627073287964  \n**Document**: 2018_7_BHUA_transcript\n\n"
          },
          "metadata": {}
        },
        {
          "output_type": "display_data",
          "data": {
            "text/plain": [
              "<IPython.core.display.Markdown object>"
            ],
            "text/markdown": "  \n**Topic Probability**: 0.1839672029018402  \n**Document**: 2018_7_CFS_transcript\n\n"
          },
          "metadata": {}
        },
        {
          "output_type": "display_data",
          "data": {
            "text/plain": [
              "<IPython.core.display.Markdown object>"
            ],
            "text/markdown": "  \n**Topic Probability**: 0.17576470971107483  \n**Document**: 2019_7_BHUA_transcript\n\n"
          },
          "metadata": {}
        },
        {
          "output_type": "display_data",
          "data": {
            "text/plain": [
              "<IPython.core.display.Markdown object>"
            ],
            "text/markdown": "  \n**Topic Probability**: 0.16662447154521942  \n**Document**: 2019_2_CFS_transcript\n\n"
          },
          "metadata": {}
        }
      ]
    },
    {
      "cell_type": "code",
      "source": [
        "get_top_docs(titles, topic_distributions, topic_index=0, n=4)"
      ],
      "metadata": {
        "colab": {
          "base_uri": "https://localhost:8080/",
          "height": 251
        },
        "id": "hON-5kKYZgXZ",
        "outputId": "85ff7a07-9c8a-49d2-bbe8-4c225049e8f6"
      },
      "execution_count": 82,
      "outputs": [
        {
          "output_type": "display_data",
          "data": {
            "text/plain": [
              "<IPython.core.display.Markdown object>"
            ],
            "text/markdown": "### Topic 0\n\ninflation year prices one housing price high things\n\n---"
          },
          "metadata": {}
        },
        {
          "output_type": "display_data",
          "data": {
            "text/plain": [
              "<IPython.core.display.Markdown object>"
            ],
            "text/markdown": "  \n**Topic Probability**: 0.2573869526386261  \n**Document**: 2022_6_CFS_transcript\n\n"
          },
          "metadata": {}
        },
        {
          "output_type": "display_data",
          "data": {
            "text/plain": [
              "<IPython.core.display.Markdown object>"
            ],
            "text/markdown": "  \n**Topic Probability**: 0.23254284262657166  \n**Document**: 2022_3_CFS_transcript\n\n"
          },
          "metadata": {}
        },
        {
          "output_type": "display_data",
          "data": {
            "text/plain": [
              "<IPython.core.display.Markdown object>"
            ],
            "text/markdown": "  \n**Topic Probability**: 0.22140532732009888  \n**Document**: 2021_7_CFS_transcript\n\n"
          },
          "metadata": {}
        },
        {
          "output_type": "display_data",
          "data": {
            "text/plain": [
              "<IPython.core.display.Markdown object>"
            ],
            "text/markdown": "  \n**Topic Probability**: 0.194954514503479  \n**Document**: 2023_3_CFS_transcript\n\n"
          },
          "metadata": {}
        }
      ]
    },
    {
      "cell_type": "markdown",
      "source": [
        "###TF-IDF\n",
        "\n",
        "Using TF-IDF to identify the most significant words featured in the March 2023 CFS questions, we see some  differences in the questions asked by Democrats versus Republicans.\n",
        "\n",
        "Democrat's top keyword was 'inflation', while Republican's top keyword was 'policy'. At a high level, the most frequent words and most of the words identified using TF-IDF appear to relate to the Fed's mandate to some extent.\n",
        "\n",
        "Republicans were more likely to ask questions related to fiscal policy. Using the concordance tool, we see that some of the questions were related to Biden administration policies or the impact of fiscal policy on inflation. Democrats were more likely to ask about the debt limit, highlighting the costs associated with not raising it. Both of these topic areas could be classed as relating to political or fiscal matters that cannot be addressed under the Fed's mandate.\n",
        "\n",
        "Both parties addressed climate change, but the parties approached the topic differently. Democrat questions appeared to focus more on the costs of climate change, while Republicans were more focused on regulation or capital markets. Chair Powell has [stated](https://www.federalreserve.gov/newsevents/pressreleases/powell-statement-20231024b.htm#:~:text=The%20Federal%20Reserve%20has%20narrow,financial%20risks%20of%20climate%20change.) that the Fed's responsibilities regarding climate-related financial risks are narrow, and related to its bank supervision responsibilities.\n",
        "\n",
        "Republicans also asked about the CFPB - the [Consumer Finance Protection Bureau](https://www.federalregister.gov/agencies/consumer-financial-protection-bureau) - an independent bureau within the Federal Reserve System. The questions appear to relate to the accountability and funding mechanisms of the Bureau. In 2022, the Fifth Circuit Court of Appeals ruled that the CFPB's structure is unconstitutional because it is funded through fees collected by the Fed, instead of through an annual congressional appropriation (Source: [NPR](https://www.npr.org/2023/10/03/1203416483/most-supreme-court-justices-seemed-inclined-to-uphold-how-cfpb-is-funded)). The case was heard by the Supreme Court in October 2023."
      ],
      "metadata": {
        "id": "1dnkuleVA-RJ"
      }
    },
    {
      "cell_type": "code",
      "source": [
        "##Plotting the TF-IDF Results\n",
        "##Reference: Krisel 2023, https://github.com/rskrisel/tf-idf/blob/main/README.md\n",
        "\n",
        "import altair as alt\n",
        "import numpy as np\n",
        "\n",
        "# Terms in this list will get a red dot in the visualization\n",
        "#term_list = ['inflation', 'employment']\n",
        "\n",
        "# adding a little randomness to break ties in term ranking\n",
        "top_tfidf_plusRand = top_tfidf.copy()\n",
        "top_tfidf_plusRand['tfidf'] = top_tfidf_plusRand['tfidf'] + np.random.rand(top_tfidf.shape[0])*0.0001\n",
        "\n",
        "# base for all visualizations, with rank calculation\n",
        "base = alt.Chart(top_tfidf_plusRand).encode(\n",
        "    x = 'rank:O',\n",
        "    y = 'document:N'\n",
        ").transform_window(\n",
        "    rank = \"rank()\",\n",
        "    sort = [alt.SortField(\"tfidf\", order=\"descending\")],\n",
        "    groupby = [\"document\"],\n",
        ")\n",
        "\n",
        "# heatmap specification\n",
        "heatmap = base.mark_rect().encode(\n",
        "    color = 'tfidf:Q'\n",
        ")\n",
        "\n",
        "# red circle over terms in above list\n",
        "#circle = base.mark_circle(size=100).encode(\n",
        "#    color = alt.condition(\n",
        "#        alt.FieldOneOfPredicate(field='term', oneOf=term_list),\n",
        "#        alt.value('red'),\n",
        "#        alt.value('#FFFFFF00')\n",
        "#    )\n",
        "#)\n",
        "\n",
        "# text labels, white for darker heatmap colors\n",
        "text = base.mark_text(baseline='middle').encode(\n",
        "    text = 'term:N',\n",
        "    color = alt.condition(alt.datum.tfidf >= 0.23, alt.value('white'), alt.value('black'))\n",
        ")\n",
        "\n",
        "# display the three superimposed visualizations\n",
        "(heatmap + text).properties(width = 600)"
      ],
      "metadata": {
        "colab": {
          "base_uri": "https://localhost:8080/",
          "height": 125
        },
        "id": "aJ1YExNzAP2V",
        "outputId": "1d2481e5-3af1-400a-c2c1-aa2ceeecd6ba"
      },
      "execution_count": 69,
      "outputs": [
        {
          "output_type": "execute_result",
          "data": {
            "text/html": [
              "\n",
              "<div id=\"altair-viz-324c76cbcf954f90bb7bce522a04f666\"></div>\n",
              "<script type=\"text/javascript\">\n",
              "  var VEGA_DEBUG = (typeof VEGA_DEBUG == \"undefined\") ? {} : VEGA_DEBUG;\n",
              "  (function(spec, embedOpt){\n",
              "    let outputDiv = document.currentScript.previousElementSibling;\n",
              "    if (outputDiv.id !== \"altair-viz-324c76cbcf954f90bb7bce522a04f666\") {\n",
              "      outputDiv = document.getElementById(\"altair-viz-324c76cbcf954f90bb7bce522a04f666\");\n",
              "    }\n",
              "    const paths = {\n",
              "      \"vega\": \"https://cdn.jsdelivr.net/npm//vega@5?noext\",\n",
              "      \"vega-lib\": \"https://cdn.jsdelivr.net/npm//vega-lib?noext\",\n",
              "      \"vega-lite\": \"https://cdn.jsdelivr.net/npm//vega-lite@4.17.0?noext\",\n",
              "      \"vega-embed\": \"https://cdn.jsdelivr.net/npm//vega-embed@6?noext\",\n",
              "    };\n",
              "\n",
              "    function maybeLoadScript(lib, version) {\n",
              "      var key = `${lib.replace(\"-\", \"\")}_version`;\n",
              "      return (VEGA_DEBUG[key] == version) ?\n",
              "        Promise.resolve(paths[lib]) :\n",
              "        new Promise(function(resolve, reject) {\n",
              "          var s = document.createElement('script');\n",
              "          document.getElementsByTagName(\"head\")[0].appendChild(s);\n",
              "          s.async = true;\n",
              "          s.onload = () => {\n",
              "            VEGA_DEBUG[key] = version;\n",
              "            return resolve(paths[lib]);\n",
              "          };\n",
              "          s.onerror = () => reject(`Error loading script: ${paths[lib]}`);\n",
              "          s.src = paths[lib];\n",
              "        });\n",
              "    }\n",
              "\n",
              "    function showError(err) {\n",
              "      outputDiv.innerHTML = `<div class=\"error\" style=\"color:red;\">${err}</div>`;\n",
              "      throw err;\n",
              "    }\n",
              "\n",
              "    function displayChart(vegaEmbed) {\n",
              "      vegaEmbed(outputDiv, spec, embedOpt)\n",
              "        .catch(err => showError(`Javascript Error: ${err.message}<br>This usually means there's a typo in your chart specification. See the javascript console for the full traceback.`));\n",
              "    }\n",
              "\n",
              "    if(typeof define === \"function\" && define.amd) {\n",
              "      requirejs.config({paths});\n",
              "      require([\"vega-embed\"], displayChart, err => showError(`Error loading script: ${err.message}`));\n",
              "    } else {\n",
              "      maybeLoadScript(\"vega\", \"5\")\n",
              "        .then(() => maybeLoadScript(\"vega-lite\", \"4.17.0\"))\n",
              "        .then(() => maybeLoadScript(\"vega-embed\", \"6\"))\n",
              "        .catch(showError)\n",
              "        .then(() => displayChart(vegaEmbed));\n",
              "    }\n",
              "  })({\"config\": {\"view\": {\"continuousWidth\": 400, \"continuousHeight\": 300}}, \"layer\": [{\"mark\": \"rect\", \"encoding\": {\"color\": {\"field\": \"tfidf\", \"type\": \"quantitative\"}, \"x\": {\"field\": \"rank\", \"type\": \"ordinal\"}, \"y\": {\"field\": \"document\", \"type\": \"nominal\"}}, \"transform\": [{\"window\": [{\"op\": \"rank\", \"field\": \"\", \"as\": \"rank\"}], \"groupby\": [\"document\"], \"sort\": [{\"field\": \"tfidf\", \"order\": \"descending\"}]}]}, {\"mark\": {\"type\": \"text\", \"baseline\": \"middle\"}, \"encoding\": {\"color\": {\"condition\": {\"value\": \"white\", \"test\": \"(datum.tfidf >= 0.23)\"}, \"value\": \"black\"}, \"text\": {\"field\": \"term\", \"type\": \"nominal\"}, \"x\": {\"field\": \"rank\", \"type\": \"ordinal\"}, \"y\": {\"field\": \"document\", \"type\": \"nominal\"}}, \"transform\": [{\"window\": [{\"op\": \"rank\", \"field\": \"\", \"as\": \"rank\"}], \"groupby\": [\"document\"], \"sort\": [{\"field\": \"tfidf\", \"order\": \"descending\"}]}]}], \"data\": {\"name\": \"data-588dff153d8b694f4331d76167a4190c\"}, \"width\": 600, \"$schema\": \"https://vega.github.io/schema/vega-lite/v4.17.0.json\", \"datasets\": {\"data-588dff153d8b694f4331d76167a4190c\": [{\"document\": \"Dquestions\", \"term\": \"inflation\", \"tfidf\": 0.2855138824921602}, {\"document\": \"Dquestions\", \"term\": \"banks\", \"tfidf\": 0.24473657061137155}, {\"document\": \"Dquestions\", \"term\": \"debt\", \"tfidf\": 0.1631496042759564}, {\"document\": \"Dquestions\", \"term\": \"people\", \"tfidf\": 0.15298426622972217}, {\"document\": \"Dquestions\", \"term\": \"years\", \"tfidf\": 0.12235911622109266}, {\"document\": \"Dquestions\", \"term\": \"climate\", \"tfidf\": 0.11216909412020389}, {\"document\": \"Dquestions\", \"term\": \"look\", \"tfidf\": 0.11220391185607755}, {\"document\": \"Dquestions\", \"term\": \"rate\", \"tfidf\": 0.11224758377253127}, {\"document\": \"Dquestions\", \"term\": \"wages\", \"tfidf\": 0.11215562591753386}, {\"document\": \"Dquestions\", \"term\": \"limit\", \"tfidf\": 0.1019749069381397}, {\"document\": \"Rquestions\", \"term\": \"policy\", \"tfidf\": 0.18053141744794424}, {\"document\": \"Rquestions\", \"term\": \"banks\", \"tfidf\": 0.15651051135192}, {\"document\": \"Rquestions\", \"term\": \"board\", \"tfidf\": 0.15654245423352617}, {\"document\": \"Rquestions\", \"term\": \"climate\", \"tfidf\": 0.14448182629147147}, {\"document\": \"Rquestions\", \"term\": \"percent\", \"tfidf\": 0.1444996334562896}, {\"document\": \"Rquestions\", \"term\": \"fiscal\", \"tfidf\": 0.13241555742604946}, {\"document\": \"Rquestions\", \"term\": \"capital\", \"tfidf\": 0.12040613708910271}, {\"document\": \"Rquestions\", \"term\": \"financial\", \"tfidf\": 0.12040644913017141}, {\"document\": \"Rquestions\", \"term\": \"policies\", \"tfidf\": 0.12039685066239518}, {\"document\": \"Rquestions\", \"term\": \"cfpb\", \"tfidf\": 0.10837830930118741}, {\"document\": \"questions\", \"term\": \"inflation\", \"tfidf\": 0.23712201569603053}, {\"document\": \"questions\", \"term\": \"banks\", \"tfidf\": 0.1860226307152179}, {\"document\": \"questions\", \"term\": \"debt\", \"tfidf\": 0.17204272472071216}, {\"document\": \"questions\", \"term\": \"people\", \"tfidf\": 0.15815923382327585}, {\"document\": \"questions\", \"term\": \"years\", \"tfidf\": 0.1535096499894807}, {\"document\": \"questions\", \"term\": \"percent\", \"tfidf\": 0.14877296543005195}, {\"document\": \"questions\", \"term\": \"policy\", \"tfidf\": 0.12561383857793634}, {\"document\": \"questions\", \"term\": \"rate\", \"tfidf\": 0.1255450425346648}, {\"document\": \"questions\", \"term\": \"capital\", \"tfidf\": 0.10693884966098932}, {\"document\": \"questions\", \"term\": \"climate\", \"tfidf\": 0.1069549154992294}]}}, {\"mode\": \"vega-lite\"});\n",
              "</script>"
            ],
            "text/plain": [
              "alt.LayerChart(...)"
            ]
          },
          "metadata": {},
          "execution_count": 69
        }
      ]
    },
    {
      "cell_type": "markdown",
      "source": [
        "###Other Text Analysis\n",
        "\n",
        "The following NLTK tools helped me to place the key words identified above into the broader context of the questions asked (concordance) and showed the most frequency used words (frequency distribution)."
      ],
      "metadata": {
        "id": "ro5QfNzzOAkL"
      }
    },
    {
      "cell_type": "code",
      "source": [
        "##Convert to Text type for concordance\n",
        "cleanQtext = nltk.Text(Qtext_stops)\n",
        "cleanRtext = nltk.Text(Rtext_stops)\n",
        "cleanDtext = nltk.Text(Dtext_stops)\n",
        "\n",
        "##Republican questions related to 'fiscal'\n",
        "cleanRtext.concordance(\"fiscal\")"
      ],
      "metadata": {
        "colab": {
          "base_uri": "https://localhost:8080/"
        },
        "id": "9qLS-gR-N_-e",
        "outputId": "cd8019c3-b114-4162-f3f3-14fd728e9127"
      },
      "execution_count": 85,
      "outputs": [
        {
          "output_type": "stream",
          "name": "stdout",
          "text": [
            "Displaying 11 of 11 matches:\n",
            "legated treasury since 1912 engaged fiscal agent testified many times issue cb\n",
            "g question kennedy yesterday impact fiscal policy relates inflation quote attr\n",
            "r unleashing american energy factor fiscal policies policymakers factor fiscal\n",
            "fiscal policies policymakers factor fiscal policies impact inflation looking a\n",
            "ies impact inflation looking advice fiscal policies stay lawmakers looking fis\n",
            "cal policies stay lawmakers looking fiscal policy impact inflation 449 steil t\n",
            "ally next decade showing 14 percent fiscal spend compare national defense 13 p\n",
            "place 484 okay biden administration fiscal energy policy cost trillions defici\n",
            " living almost every aspect society fiscal energy policy work biden administra\n",
            "g inflation 486 risking stagflation fiscal policy monetary policy working 488 \n",
            "ates higher percent inflation level fiscal monetary cooperation 495 us greatly\n"
          ]
        }
      ]
    },
    {
      "cell_type": "code",
      "source": [
        "##Democrat questions related to 'debt'\n",
        "cleanDtext.concordance(\"debt\")"
      ],
      "metadata": {
        "colab": {
          "base_uri": "https://localhost:8080/"
        },
        "id": "OYfxrsdqQDTy",
        "outputId": "b2b00d93-5f9f-498d-8095-c9dbb19ba527"
      },
      "execution_count": 86,
      "outputs": [
        {
          "output_type": "stream",
          "name": "stdout",
          "text": [
            "Displaying 16 of 16 matches:\n",
            "ree february 1st congress must raise debt limit described consequences failing\n",
            "ces failing perhaps important expert debt limit find concerning recommendation\n",
            "find concerning recommendation raise debt limit timely manner ignored colleagu\n",
            " week may seriously look downgrading debt based escalating brinksmanship obser\n",
            "g even congress ultimately addresses debt limit last minute history repeating \n",
            "y repeating standard poor downgraded debt 2011 republicans last controlled hou\n",
            "tisan policy center later found 2011 debt limit debate cost us billion higher \n",
            "s trump office three times addressed debt ceiling timely manner without holdin\n",
            " see congress continues delay action debt limit economy individuals families 3\n",
            " somewhat quoted congress must raise debt limit described consequences failing\n",
            "ation statement made able manipulate debt pay bills coming due another account\n",
            "many commend ranking member bringing debt limit harm already done economy solv\n",
            "t rates rise borrowers united states debt decide actually little risky possibl\n",
            "mercial customers 50 years never day debt concerned implementing additional re\n",
            "t rates put upward pressure national debt cbo already estimates annual interes\n",
            "interest rates rapidly make payments debt unsustainable actions congress consi\n"
          ]
        }
      ]
    },
    {
      "cell_type": "code",
      "source": [
        "##All questions related to 'climate', including some unallocated\n",
        "cleanQtext.concordance(\"climate\")"
      ],
      "metadata": {
        "colab": {
          "base_uri": "https://localhost:8080/"
        },
        "id": "fkBMeZFheoxQ",
        "outputId": "695bebf9-4807-4f82-ef9b-60dc1cec3c5e"
      },
      "execution_count": 89,
      "outputs": [
        {
          "output_type": "stream",
          "name": "stdout",
          "text": [
            "Displaying 23 of 23 matches:\n",
            " fact make policy decisions related climate change seen example administration \n",
            "ministration turn regulators impose climate policy alternative legislative proc\n",
            "tive process careful ensuring place climate debate congress ensure regulatory t\n",
            "atory toolkit shall warped creating climate policy outcomes 116 lucas much appr\n",
            "rk made one person 206 earlier year climate policymaker however draft principle\n",
            "icies align values context supposed climate risks appears regulation wants begi\n",
            "regulation wants begin implementing climate policies seems disconnect statement\n",
            "tting forward comment 208 regarding climate scenario analysis pilot program boa\n",
            "equality gender race discrimination climate change recently board proposed guid\n",
            "ying financial institutions monitor climate change touched little bit ensure pl\n",
            "ing conspiring 251 heard supposedly climate risk risk climate change 253 affect\n",
            " heard supposedly climate risk risk climate change 253 affect banks 255 course \n",
            "sad colleagues side stick head sand climate change supposed climate change real\n",
            "k head sand climate change supposed climate change reality real climate change \n",
            "upposed climate change reality real climate change costing billions billions do\n",
            "uick issues wanted start discussing climate especially given announcement janua\n",
            " announcement january conduct pilot climate scenario analysis exercise along oc\n",
            "cise along occ fdic issued proposed climate risk management principles banks at\n",
            "even though forcing banks encompass climate analysis stress tests many initiati\n",
            "tic review capital markets engaging climate policy well decision put vice charg\n",
            "kay stated feel policy implementing climate change 421 climate change policies \n",
            "icy implementing climate change 421 climate change policies mandated 423 concer\n",
            "unity borrow banks conducting pilot climate scenario analysis mandated asked ma\n"
          ]
        }
      ]
    },
    {
      "cell_type": "code",
      "source": [
        "##Democrat questions related to 'climate'\n",
        "cleanDtext.concordance(\"climate\")"
      ],
      "metadata": {
        "colab": {
          "base_uri": "https://localhost:8080/"
        },
        "id": "k3mj7nRhQJ42",
        "outputId": "d7f8f74c-c578-476d-c53e-668e68aa0e26"
      },
      "execution_count": 87,
      "outputs": [
        {
          "output_type": "stream",
          "name": "stdout",
          "text": [
            "Displaying 11 of 11 matches:\n",
            "equality gender race discrimination climate change recently board proposed guid\n",
            "ying financial institutions monitor climate change touched little bit ensure pl\n",
            "ing conspiring 251 heard supposedly climate risk risk climate change 253 affect\n",
            " heard supposedly climate risk risk climate change 253 affect banks 255 course \n",
            "sad colleagues side stick head sand climate change supposed climate change real\n",
            "k head sand climate change supposed climate change reality real climate change \n",
            "upposed climate change reality real climate change costing billions billions do\n",
            "uick issues wanted start discussing climate especially given announcement janua\n",
            " announcement january conduct pilot climate scenario analysis exercise along oc\n",
            "cise along occ fdic issued proposed climate risk management principles banks at\n",
            "even though forcing banks encompass climate analysis stress tests many initiati\n"
          ]
        }
      ]
    },
    {
      "cell_type": "code",
      "source": [
        "##Democrat questions related to 'climate'\n",
        "cleanRtext.concordance(\"climate\")"
      ],
      "metadata": {
        "colab": {
          "base_uri": "https://localhost:8080/"
        },
        "id": "1Ppq1MHDQPNQ",
        "outputId": "96c176c3-5923-484f-c34e-242f26c69b81"
      },
      "execution_count": 88,
      "outputs": [
        {
          "output_type": "stream",
          "name": "stdout",
          "text": [
            "Displaying 12 of 12 matches:\n",
            " fact make policy decisions related climate change seen example administration \n",
            "ministration turn regulators impose climate policy alternative legislative proc\n",
            "tive process careful ensuring place climate debate congress ensure regulatory t\n",
            "atory toolkit shall warped creating climate policy outcomes 116 lucas much appr\n",
            " consensus builder 206 earlier year climate policymaker however draft principle\n",
            "icies align values context supposed climate risks appears regulation wants begi\n",
            "regulation wants begin implementing climate policies seems disconnect statement\n",
            "tting forward comment 208 regarding climate scenario analysis pilot program boa\n",
            "tic review capital markets engaging climate policy well decision put vice charg\n",
            "kay stated feel policy implementing climate change 421 climate change policies \n",
            "icy implementing climate change 421 climate change policies mandated 423 concer\n",
            "unity borrow banks conducting pilot climate scenario analysis mandated asked ma\n"
          ]
        }
      ]
    },
    {
      "cell_type": "code",
      "source": [
        "##Republican questions related to 'CFPB'\n",
        "cleanRtext.concordance(\"cfpb\")"
      ],
      "metadata": {
        "colab": {
          "base_uri": "https://localhost:8080/"
        },
        "id": "_JzkZvO9fsIw",
        "outputId": "6d1ee1ae-fe79-48db-bf96-19d237f5f40e"
      },
      "execution_count": 91,
      "outputs": [
        {
          "output_type": "stream",
          "name": "stdout",
          "text": [
            "Displaying 9 of 9 matches:\n",
            "consumer financial protection bureau cfpb gets money run agency 147 basically \n",
            "y run agency 147 basically money pay cfpb bills case unless continue borrow ba\n",
            "sically happen borrow money able pay cfpb bills correct 151 question accountab\n",
            "51 question accountability assessing cfpb spending dollars 153 blank check tol\n",
            "consumer financial protection bureau cfpb funding mechanism intricately linked\n",
            "ked system according title x quarter cfpb director requests amount reasonably \n",
            "ating expenses first years existence cfpb course relaxation respect percent ca\n",
            "opriators chairmanship ever rejected cfpb budget request 358 rose tell us poli\n",
            "ing 425 banks change another expense cfpb history 12 percent go ratio seem log\n"
          ]
        }
      ]
    },
    {
      "cell_type": "code",
      "source": [
        "##Frequency Distributions\n",
        "##Graph code adapted from: https://dariuslfuller.medium.com/creating-visuals-with-nltks-freqdist-ac4e667e49f3\n",
        "##Title code: https://www.statology.org/seaborn-title/\n",
        "\n",
        "from nltk import FreqDist\n",
        "\n",
        "## Creating FreqDist, keeping the 20 most common tokens\n",
        "Q_dist = FreqDist(Qtext_stops).most_common(20)\n",
        "\n",
        "## Conversion to Pandas series via Python Dictionary for easier plotting\n",
        "Q_dist = pd.Series(dict(Q_dist))\n",
        "\n",
        "## Setting figure, ax into variables\n",
        "fig, ax = plt.subplots(figsize=(10,10))\n",
        "\n",
        "## Seaborn plotting using Pandas attributes + xtick rotation for ease of viewing\n",
        "all_plot = sns.barplot(x=Q_dist.index, y=Q_dist.values, ax=ax).set(title='Word Frequency: All Questions')\n",
        "plt.xticks(rotation=30);"
      ],
      "metadata": {
        "colab": {
          "base_uri": "https://localhost:8080/",
          "height": 902
        },
        "id": "ZHKCPtQ7Lykm",
        "outputId": "1c049989-fc4a-4562-a142-cc950e781250"
      },
      "execution_count": 95,
      "outputs": [
        {
          "output_type": "display_data",
          "data": {
            "text/plain": [
              "<Figure size 1000x1000 with 1 Axes>"
            ],
            "image/png": "[encoded data removed]"
          },
          "metadata": {}
        }
      ]
    },
    {
      "cell_type": "code",
      "source": [
        "## Creating FreqDist, keeping the 20 most common tokens\n",
        "R_dist = FreqDist(Rtext_stops).most_common(15)\n",
        "\n",
        "## Conversion to Pandas series via Python Dictionary for easier plotting\n",
        "R_dist = pd.Series(dict(R_dist))\n",
        "\n",
        "## Setting figure, ax into variables\n",
        "fig, ax = plt.subplots(figsize=(8,8))\n",
        "\n",
        "##code to change graph colour from: https://www.statology.org/seaborn-barplot-color/\n",
        "\n",
        "## Seaborn plotting using Pandas attributes + xtick rotation for ease of viewing\n",
        "all_plot = sns.barplot(x=R_dist.index, y=R_dist.values, ax=ax, color='red').set(title='Word Frequency: Republican Questions')\n",
        "plt.xticks(rotation=30);"
      ],
      "metadata": {
        "colab": {
          "base_uri": "https://localhost:8080/",
          "height": 743
        },
        "id": "fwKhvpnlSRs8",
        "outputId": "f2d868e7-3485-4efa-8724-479170bf069c"
      },
      "execution_count": 75,
      "outputs": [
        {
          "output_type": "display_data",
          "data": {
            "text/plain": [
              "<Figure size 800x800 with 1 Axes>"
            ],
            "image/png": "[encoded data removed]"
          },
          "metadata": {}
        }
      ]
    },
    {
      "cell_type": "code",
      "source": [
        "## Creating FreqDist, keeping the 20 most common tokens\n",
        "D_dist = FreqDist(Dtext_stops).most_common(15)\n",
        "\n",
        "## Conversion to Pandas series via Python Dictionary for easier plotting\n",
        "D_dist = pd.Series(dict(D_dist))\n",
        "\n",
        "## Setting figure, ax into variables\n",
        "fig, ax = plt.subplots(figsize=(8,8))\n",
        "\n",
        "##code to change graph colour from: https://www.statology.org/seaborn-barplot-color/\n",
        "\n",
        "## Seaborn plotting using Pandas attributes + xtick rotation for ease of viewing\n",
        "all_plot = sns.barplot(x=D_dist.index, y=D_dist.values, ax=ax, color='blue').set(title='Word Frequency: Democrat Questions')\n",
        "plt.xticks(rotation=30);"
      ],
      "metadata": {
        "colab": {
          "base_uri": "https://localhost:8080/",
          "height": 747
        },
        "id": "JkgXj_WyTzpK",
        "outputId": "7aa3d38d-e10a-415a-dcef-f95d746ae237"
      },
      "execution_count": 76,
      "outputs": [
        {
          "output_type": "display_data",
          "data": {
            "text/plain": [
              "<Figure size 800x800 with 1 Axes>"
            ],
            "image/png": "[encoded data removed]"
          },
          "metadata": {}
        }
      ]
    },
    {
      "cell_type": "markdown",
      "source": [
        "##Conclusion\n",
        "\n",
        "Returning to the research question and hypotheses, how well does Congress hold the Fed to account?\n",
        "\n",
        "1. Are the questions asked during the testimony ‘relevant’ for the Fed Chair?\n",
        "\n",
        "Hypothesis: The majority of the questions will relate to monetary policy, inflation, or unemployment.\n",
        "\n",
        "Result: there was a strong focus on inflation, banks, wages, interest rates and the economy in the transcripts. Overall, it appears that the majority of the discussion in the hearings overall and in the Q&A was related to areas directly under the Fed's mandate.\n",
        "\n",
        "2. Do the topics of questions asked differ across the two political parties?\n",
        "\n",
        "Hypothesis: Republicans and Democrats focus on different topics.\n",
        "\n",
        "Result: the questions asked do differ across the political parties, and where the topics or keywords were similar, the parties approached the questions from different perspectives. Both parties asked questions of the Fed Chair in areas that were not under the Fed's mandate, particularly related to fiscal policy or the debt ceiling. These questions would be better directed to the Treasury Secretary, who is more directly responsible for these areas.\n",
        "\n",
        "###Next Steps\n",
        "\n",
        "Further research could be conducted on how the questions change over time, to get a more granular result than the topic modelling heatmap. This could be achieved by repeating the TD-IDF analysis over the entire dataset. The results could be used to identify any rising interest in the Fed's role in addressing income inequality, discrimination in the labor market, and climate change.\n",
        "\n",
        " The overall analysis could also be repeated for Janet Yellen's term as Fed Chair. It would be interesting to compare how the questions change across political parties over time when committee members are addressing Fed Chairs from different political parties (Powell is a Republican, Yellen is a Democrat)."
      ],
      "metadata": {
        "id": "HHTghWAw8hhC"
      }
    }
  ]
}